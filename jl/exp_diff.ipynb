{
 "cells": [
  {
   "cell_type": "code",
   "execution_count": 93,
   "metadata": {},
   "outputs": [],
   "source": [
    "using Polynomials\n",
    "using ForwardDiff\n",
    "using ExponentialAction\n",
    "using ExponentialUtilities\n",
    "using LinearAlgebra"
   ]
  },
  {
   "cell_type": "code",
   "execution_count": 365,
   "metadata": {},
   "outputs": [
    {
     "data": {
      "text/plain": [
       "3×3 Matrix{Float64}:\n",
       " 0.0  0.8  0.0\n",
       " 0.8  0.0  0.2\n",
       " 0.0  0.2  0.0"
      ]
     },
     "metadata": {},
     "output_type": "display_data"
    }
   ],
   "source": [
    "A = [0 0.8 0;\n",
    "     0.8 0 0.2; \n",
    "     0 0.2 0]\n",
    "edge_idx = CartesianIndex(1, 2)\n",
    "edge_val = A[edge_idx]\n",
    "A"
   ]
  },
  {
   "cell_type": "markdown",
   "metadata": {},
   "source": []
  },
  {
   "cell_type": "markdown",
   "metadata": {},
   "source": [
    "## Tangent approximation\n",
    "Here we are computing the derivative for a single edge. We will use the tangent approximation to compute the derivative. This is the approach used in the Akarca paper."
   ]
  },
  {
   "cell_type": "code",
   "execution_count": 392,
   "metadata": {},
   "outputs": [
    {
     "data": {
      "text/html": [
       "2.2792638492692374 &#43; 4.8459047353259335&#8729;x"
      ],
      "text/latex": [
       "$2.2792638492692374 + 4.8459047353259335\\cdot x$"
      ],
      "text/plain": [
       "Polynomial(2.2792638492692374 + 4.8459047353259335*x)"
      ]
     },
     "metadata": {},
     "output_type": "display_data"
    }
   ],
   "source": [
    "# Points for evaluation\n",
    "resolution = 0.01\n",
    "rep_vec = collect(-0.25:resolution:0.25)\n",
    "reps = [edge_val * (1 + i) for i in rep_vec]\n",
    "\n",
    "sum_comm = zeros(length(rep_vec))\n",
    "for (i_rep, rep) in enumerate(reps)\n",
    "    A_synth = copy(A)\n",
    "    A_synth[edge_idx] = A_synth[edge_idx[2], edge_idx[1]] = rep\n",
    "    comm = exp(A_synth)\n",
    "    sum_comm[i_rep] = sum(comm)\n",
    "end\n",
    "\n",
    "x = 1:length(reps)\n",
    "slope = fit(x, sum_comm, 1)"
   ]
  },
  {
   "cell_type": "markdown",
   "metadata": {},
   "source": [
    "## Finite difference method\n",
    "Compute the approximate derivative using the finite difference method.\n",
    "https://en.wikipedia.org/wiki/Finite_difference_method"
   ]
  },
  {
   "cell_type": "code",
   "execution_count": 389,
   "metadata": {},
   "outputs": [
    {
     "data": {
      "text/plain": [
       "2.413251884607348"
      ]
     },
     "metadata": {},
     "output_type": "display_data"
    }
   ],
   "source": [
    "function approximate_derivative(f, A, delta, edge_idx)\n",
    "    # Evaluate the function at two nearby points\n",
    "    A_plus = copy(A)\n",
    "    A_plus[edge_idx]  = A_plus[edge_idx] +delta\n",
    "\n",
    "    A_minus = copy(A)\n",
    "    A_minus[edge_idx]  = A_minus[edge_idx]- delta\n",
    "\n",
    "    f_plus_delta = sum(f(A_plus))\n",
    "    f_minus_delta = sum(f(A_minus))\n",
    "\n",
    "    # Calculate the derivative approximation\n",
    "    derivative = (f_plus_delta - f_minus_delta) / (2 * delta)\n",
    "\n",
    "    return derivative\n",
    "end\n",
    "\n",
    "# Example usage\n",
    "f(M) = exp(M)  # Define the function\n",
    "delta = 0.01  # Small change in input\n",
    "\n",
    "approximate_derivative(f, A, delta, edge_idx)\n"
   ]
  },
  {
   "cell_type": "markdown",
   "metadata": {},
   "source": [
    "## Forward Differentiation\n",
    "Results are derived in the numerator layout, which means that the dimensionality of the input is added to the right."
   ]
  },
  {
   "cell_type": "code",
   "execution_count": 368,
   "metadata": {},
   "outputs": [],
   "source": [
    "# construct n x n matrixes of edge combinations\n",
    "indices = collect(CartesianIndices(A))\n",
    "index_vec = vec(indices)\n",
    "index_vec_c = sort(index_vec, by = x -> x[1])\n",
    "index_vec_r= sort(index_vec, by = x -> x[2])\n",
    "\n",
    "all_indices = [[[] for _ in 1:length(cartesian_indices)] for _ in 1:length(cartesian_indices)]\n",
    "for i in 1:size(A, 1)^2\n",
    "    for j in 1:size(A, 1)^2\n",
    "        push!(all_indices[i][j], index_vec_r[i], index_vec_c[j])\n",
    "    end\n",
    "end\n",
    "\n",
    "# Any combination of edges that includes a self-loop needs to be removed later\n",
    "cycle_indices = CartesianIndex[]\n",
    "for i in 1:size(A, 1)^2\n",
    "    for j in 1:size(A, 1)^2\n",
    "        if ((all_indices[i][j][1][1] == all_indices[i][j][1][2])||\n",
    "            (all_indices[i][j][2][1] == all_indices[i][j][2][2])||\n",
    "            (all_indices[i][j][1] == all_indices[i][j][2]) ||\n",
    "            ((all_indices[i][j][1][1] == all_indices[i][j][2][2]) && \n",
    "             (all_indices[i][j][1][2] == all_indices[i][j][2][1]))\n",
    "            )\n",
    "            push!(cycle_indices, CartesianIndex(i, j))\n",
    "        end\n",
    "    end\n",
    "end"
   ]
  },
  {
   "cell_type": "code",
   "execution_count": 390,
   "metadata": {},
   "outputs": [
    {
     "data": {
      "text/plain": [
       "9×9 Matrix{Float64}:\n",
       " 1.22423     0.445505    0.0284695   …  0.0284695   0.00557956  0.00022034\n",
       " 0.445505    1.23135     0.111376       0.00557956  0.0285246   0.00139489\n",
       " 0.0284695   0.111376    1.11747        0.00022034  0.00139489  0.0276432\n",
       " 0.445505    0.114098    0.00557956     0.111376    0.0285246   0.00139489\n",
       " 0.114098    0.4469      0.0285246      0.0285246   0.111725    0.00713115\n",
       " 0.00557956  0.0285246   0.424582    …  0.00139489  0.00713115  0.106145\n",
       " 0.0284695   0.00557956  0.00022034     1.11747     0.424582    0.0276432\n",
       " 0.00557956  0.0285246   0.00139489     0.424582    1.12438     0.106145\n",
       " 0.00022034  0.00139489  0.0276432      0.0276432   0.106145    1.01381"
      ]
     },
     "metadata": {},
     "output_type": "display_data"
    }
   ],
   "source": [
    "myexp(A) = exponential!(copyto!(similar(A), A), ExpMethodGeneric());\n",
    "d = ForwardDiff.jacobian(myexp, A)\n",
    "\n",
    "# we remove all partial derivates that include self loops\n",
    "# for idx in cycle_indices \n",
    "#     d[idx] = 0\n",
    "# end\n",
    "\n",
    "d"
   ]
  },
  {
   "cell_type": "code",
   "execution_count": 391,
   "metadata": {},
   "outputs": [
    {
     "data": {
      "text/plain": [
       "2.4306145412981492"
      ]
     },
     "metadata": {},
     "output_type": "display_data"
    }
   ],
   "source": [
    "# we get all partial derivative positions that are non-zero\n",
    "dx = d[:, findfirst(x -> x == edge_idx, index_vec_c)]\n",
    "dot(dx, vec(permutedims(exp(A), [2, 1])))"
   ]
  },
  {
   "cell_type": "markdown",
   "metadata": {},
   "source": [
    "## Forward Differentiation with Jacobian vector product"
   ]
  },
  {
   "cell_type": "code",
   "execution_count": 375,
   "metadata": {},
   "outputs": [
    {
     "data": {
      "text/plain": [
       "3×3 Matrix{Float64}:\n",
       " 2.59776   2.43061   0.399439\n",
       " 2.43061   2.69762   0.607654\n",
       " 0.399439  0.607654  1.09986"
      ]
     },
     "metadata": {},
     "output_type": "display_data"
    }
   ],
   "source": [
    "function jvp(func, primal, tangent)\n",
    "    g(t) = myexp(primal + t * tangent)\n",
    "    jvp_result = ForwardDiff.derivative(g, 0.0)\n",
    "    return jvp_result\n",
    "end\n",
    "\n",
    "jvp(myexp, A, exp(A))"
   ]
  }
 ],
 "metadata": {
  "kernelspec": {
   "display_name": "Julia 1.9.1",
   "language": "julia",
   "name": "julia-1.9"
  },
  "language_info": {
   "file_extension": ".jl",
   "mimetype": "application/julia",
   "name": "julia",
   "version": "1.9.1"
  },
  "orig_nbformat": 4
 },
 "nbformat": 4,
 "nbformat_minor": 2
}
