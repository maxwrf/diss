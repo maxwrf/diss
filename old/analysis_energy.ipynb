{
 "cells": [
  {
   "cell_type": "code",
   "execution_count": 1,
   "metadata": {},
   "outputs": [
    {
     "data": {
      "text/plain": [
       "generate_param_space (generic function with 4 methods)"
      ]
     },
     "metadata": {},
     "output_type": "display_data"
    }
   ],
   "source": [
    "using HDF5\n",
    "using DataFrames\n",
    "using Statistics\n",
    "using Plots\n",
    "\n",
    "include(\"/home/mw894/diss/gnm/gnm_utils.jl\")"
   ]
  },
  {
   "cell_type": "code",
   "execution_count": 10,
   "metadata": {},
   "outputs": [
    {
     "data": {
      "text/plain": [
       "plot_landscape (generic function with 1 method)"
      ]
     },
     "metadata": {},
     "output_type": "display_data"
    }
   ],
   "source": [
    "function plot_landscape(df, result_name::String)\n",
    "    plots = []\n",
    "\n",
    "    for (model_id, model_name) in MODELS\n",
    "        data = filter(row -> row.model_id == model_id, df)[:, [\"sample\", \"eta\", \"gamma\", \"KS_MAX\"]]\n",
    "\n",
    "        # we can miss a model\n",
    "        if isempty(data)\n",
    "            continue\n",
    "        end\n",
    "\n",
    "        grouped_data = combine(groupby(data, [:eta, :gamma]), :KS_MAX => mean)\n",
    "\n",
    "        println(result_name, \" \", model_id, \" \", size(grouped_data))\n",
    "\n",
    "        landscape = reshape(grouped_data.KS_MAX_mean,\n",
    "            (length(unique(data.eta)), length(unique(data.gamma))))\n",
    "        p = heatmap(landscape,\n",
    "            clim=(0, 1),\n",
    "            c=:viridis,\n",
    "            legend=:none,\n",
    "            title=\"Model \" * string(model_name),\n",
    "            xticks=:none,\n",
    "            yticks=:none\n",
    "        )\n",
    "        yflip!(true)\n",
    "        push!(plots, p)\n",
    "    end\n",
    "    push!(plots, plot())\n",
    "\n",
    "    l = @layout[grid(4,4) a{0.05w}]\n",
    "    bar = heatmap((0:0.01:1) .* ones(101, 1), legend=:none, xticks=:none, yticks=(1:10:101, string.(0:0.1:1)), c=:viridis)\n",
    "\n",
    "    p = plot(plots..., bar, layout=l, size=(1600, 1600))\n",
    "\n",
    "    #save\n",
    "    out_name = replace(result_name, r\"\\.h5$\" => \".pdf\")\n",
    "    savefig(p, out_name)\n",
    "end"
   ]
  },
  {
   "cell_type": "code",
   "execution_count": 11,
   "metadata": {},
   "outputs": [
    {
     "data": {
      "text/plain": [
       "analyze (generic function with 1 method)"
      ]
     },
     "metadata": {},
     "output_type": "display_data"
    }
   ],
   "source": [
    "function analyze(result_path::String, result_name::String)\n",
    "    \"\"\"\n",
    "    Warning: It is important to note that the loaded arrays for each model can \n",
    "    have a different numeber of sampels as each sample model combi is run as a \n",
    "    single job on the HPC - and can time out.\n",
    "    \"\"\"\n",
    "    file = h5open(result_path, \"r\")\n",
    "\n",
    "    # read meta data for the group\n",
    "    meta_group = file[\"meta\"]\n",
    "    d_set_id = read_attribute(meta_group, \"data_set_id\")\n",
    "    data_set_name = read_attribute(meta_group, \"data_set_name\")\n",
    "    week = read_attribute(meta_group, \"week\")\n",
    "    param_space = read(file, \"param_space\")\n",
    "\n",
    "    # read the data\n",
    "    results_group = file[\"results\"]\n",
    "    K_all = []\n",
    "    group_models = []\n",
    "    for (model_id, _) in MODELS\n",
    "        # 3D Array: n_sampels x params x 4\n",
    "        try\n",
    "            push!(K_all, read(results_group, string(model_id)))\n",
    "            push!(group_models, model_id)\n",
    "        catch KeyError\n",
    "            println(\"Model $model_id not found in $result_path.\")\n",
    "        end\n",
    "    end\n",
    "    close(file)\n",
    "\n",
    "\n",
    "    # prepare df of all results\n",
    "    df_all = []\n",
    "    for (i_model, K_model) in zip(group_models, K_all)\n",
    "        # compute K max\n",
    "        K_model_max = maximum(K_model, dims=ndims(K_model))\n",
    "        K_model_max = dropdims(K_model_max, dims=ndims(K_model))\n",
    "\n",
    "        # prepare df for that model\n",
    "        df = DataFrame()\n",
    "        df.sample = repeat(collect(1:size(K_model, 1)), size(K_model, 2))\n",
    "        df.model_id = repeat([i_model], size(K_model, 1) * size(K_model, 2))\n",
    "        df.eta = repeat(param_space[:, 1], size(K_model, 1))\n",
    "        df.gamma = repeat(param_space[:, 2], size(K_model, 1))\n",
    "        df.KS_K = vec(permutedims(K_model[:, :, 1], [2, 1]))\n",
    "        df.KS_C = vec(permutedims(K_model[:, :, 2], [2, 1]))\n",
    "        df.KS_B = vec(permutedims(K_model[:, :, 3], [2, 1]))\n",
    "        df.KS_E = vec(permutedims(K_model[:, :, 4], [2, 1]))\n",
    "        df.KS_MAX = vec(permutedims(K_model_max, [2, 1]))\n",
    "\n",
    "        push!(df_all, df)\n",
    "    end\n",
    "    df_all = vcat(df_all...)\n",
    "\n",
    "    plot_landscape(df_all, result_name)\n",
    "end"
   ]
  },
  {
   "cell_type": "code",
   "execution_count": 12,
   "metadata": {},
   "outputs": [
    {
     "name": "stdout",
     "output_type": "stream",
     "text": [
      "group_week_1.h5 1 (10000, 3)\n"
     ]
    },
    {
     "name": "stdout",
     "output_type": "stream",
     "text": [
      "group_week_1.h5 2 (10000, 3)\n"
     ]
    },
    {
     "name": "stdout",
     "output_type": "stream",
     "text": [
      "group_week_1.h5 3 (10000, 3)\n"
     ]
    },
    {
     "name": "stdout",
     "output_type": "stream",
     "text": [
      "group_week_1.h5 4 (10000, 3)\n"
     ]
    },
    {
     "name": "stdout",
     "output_type": "stream",
     "text": [
      "group_week_1.h5 5 (10000, 3)\n"
     ]
    },
    {
     "name": "stdout",
     "output_type": "stream",
     "text": [
      "group_week_1.h5 6 (10000, 3)\n"
     ]
    },
    {
     "name": "stdout",
     "output_type": "stream",
     "text": [
      "group_week_1.h5 7 (10000, 3)\n"
     ]
    },
    {
     "name": "stdout",
     "output_type": "stream",
     "text": [
      "group_week_1.h5 8 (10000, 3)\n"
     ]
    },
    {
     "name": "stdout",
     "output_type": "stream",
     "text": [
      "group_week_1.h5 9 (10000, 3)\n"
     ]
    },
    {
     "name": "stdout",
     "output_type": "stream",
     "text": [
      "group_week_1.h5 10 (10000, 3)\n"
     ]
    },
    {
     "name": "stdout",
     "output_type": "stream",
     "text": [
      "group_week_1.h5 11 (10000, 3)\n"
     ]
    },
    {
     "name": "stdout",
     "output_type": "stream",
     "text": [
      "group_week_1.h5 12 (10000, 3)\n"
     ]
    },
    {
     "name": "stdout",
     "output_type": "stream",
     "text": [
      "group_week_1.h5 13 (10000, 3)\n"
     ]
    },
    {
     "ename": "ErrorException",
     "evalue": "When doing layout, n (16) != n_override (14).  You're probably trying to force existing plots into a layout that doesn't fit them.",
     "output_type": "error",
     "traceback": [
      "When doing layout, n (16) != n_override (14).  You're probably trying to force existing plots into a layout that doesn't fit them.\n",
      "\n",
      "Stacktrace:\n",
      " [1] error(::String) at ./error.jl:33\n",
      " [2] layout_args(::Dict{Symbol,Any}, ::Int64) at /home/mw894/.julia/packages/Plots/iYDwd/src/layouts.jl:444\n",
      " [3] plot(::Plots.Plot, ::Plots.Plot, ::Vararg{Plots.Plot,N} where N; kw::Any) at /home/mw894/.julia/packages/Plots/iYDwd/src/plot.jl:77\n",
      " [4] plot_landscape(::DataFrame, ::String) at /home/mw894/diss/gnm/analysis/analysis_energy.ipynb:34\n",
      " [5] analyze(::String, ::String) at /home/mw894/diss/gnm/analysis/analysis_energy.ipynb:55\n",
      " [6] main(::String) at /home/mw894/diss/gnm/analysis/analysis_energy.ipynb:6\n",
      " [7] top-level scope at /home/mw894/diss/gnm/analysis/analysis_energy.ipynb:11"
     ]
    }
   ],
   "source": [
    "function main(result_dir::String)\n",
    "    result_names = filter(name -> (endswith(name, \".h5\") && startswith(name, \"group_week_\")), readdir(result_dir))\n",
    "    result_paths = map(name -> joinpath(result_dir, name), result_names)\n",
    "\n",
    "    for (i_result, result_path) in enumerate(result_paths)\n",
    "        analyze(result_path, result_names[i_result])\n",
    "    end\n",
    "end\n",
    "\n",
    "\n",
    "main(\"/store/DAMTPEGLEN/mw894/data/Charlesworth2015/ctx\")"
   ]
  },
  {
   "cell_type": "code",
   "execution_count": 5,
   "metadata": {},
   "outputs": [],
   "source": []
  }
 ],
 "metadata": {
  "kernelspec": {
   "display_name": "Julia 1.5.2",
   "language": "julia",
   "name": "julia-1.5"
  },
  "language_info": {
   "file_extension": ".jl",
   "mimetype": "application/julia",
   "name": "julia",
   "version": "1.5.2"
  },
  "orig_nbformat": 4
 },
 "nbformat": 4,
 "nbformat_minor": 2
}
