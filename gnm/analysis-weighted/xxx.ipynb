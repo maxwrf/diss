{
 "cells": [
  {
   "cell_type": "code",
   "execution_count": 25,
   "metadata": {},
   "outputs": [
    {
     "name": "stderr",
     "output_type": "stream",
     "text": [
      "WARNING: redefinition of constant MODELS. This may fail, cause incorrect answers, or produce other errors.\n"
     ]
    },
    {
     "data": {
      "text/plain": [
       "TaskLocalRNG()"
      ]
     },
     "metadata": {},
     "output_type": "display_data"
    }
   ],
   "source": [
    "using Random\n",
    "\n",
    "include(\"../test_data.jl\")\n",
    "include(\"../gnm_utils.jl\")\n",
    "include(\"../gnm.jl\")\n",
    "\n",
    "Random.seed!(1234)"
   ]
  },
  {
   "cell_type": "code",
   "execution_count": 26,
   "metadata": {},
   "outputs": [],
   "source": [
    "# load synthetic data\n",
    "W_Y, D, A_init = load_weight_test_data()\n",
    "A_Y = Float64.(W_Y .> 0);"
   ]
  },
  {
   "cell_type": "code",
   "execution_count": 24,
   "metadata": {},
   "outputs": [],
   "source": [
    "limits_one=[-7.0, 7.0]\n",
    "limits_two=[-7.0, 7.0]\n",
    "limits_three=[0.02, 0.1]\n",
    "limits_four=[0.8, 1.0]\n",
    "\n",
    "n_runs = 10000\n",
    "\n",
    "η = range(limits_one[1], stop=limits_one[2], length=max(floor(Int64, (n_runs)^(1/4)), 2))\n",
    "γ = range(limits_two[1], stop=limits_two[2], length=max(floor(Int64, (n_runs)^(1/4)), 2))\n",
    "α = range(limits_two[1], stop=limits_two[2], length=max(floor(Int64, (n_runs)^(1/4)), 2))\n",
    "ω = range(limits_two[1], stop=limits_two[2], length=max(floor(Int64, (n_runs)^(1/4)), 2))\n",
    "\n",
    "params_tups = unique(collect(Iterators.product(η, γ, α, ω)), dims=1)\n",
    "params_tups = vec(permutedims(params_tups, [4, 3, 2, 1]))\n",
    "\n",
    "params = zeros(length(params_tups), 4)\n",
    "for iParams in 1:length(params_tups)\n",
    "    params[iParams, 1] = params_tups[iParams][1]\n",
    "    params[iParams, 2] = params_tups[iParams][2]\n",
    "    params[iParams, 3] = params_tups[iParams][3]\n",
    "    params[iParams, 4] = params_tups[iParams][4]\n",
    "end"
   ]
  },
  {
   "cell_type": "code",
   "execution_count": 28,
   "metadata": {},
   "outputs": [
    {
     "ename": "InterruptException",
     "evalue": "InterruptException:",
     "output_type": "error",
     "traceback": [
      "InterruptException:\n",
      "\n",
      "Stacktrace:\n",
      "  [1] Array\n",
      "    @ ./boot.jl:477 [inlined]\n",
      "  [2] Array\n",
      "    @ ./boot.jl:486 [inlined]\n",
      "  [3] similar\n",
      "    @ ./array.jl:374 [inlined]\n",
      "  [4] similar\n",
      "    @ ./abstractarray.jl:836 [inlined]\n",
      "  [5] _unsafe_getindex\n",
      "    @ ./multidimensional.jl:873 [inlined]\n",
      "  [6] _getindex\n",
      "    @ ./multidimensional.jl:861 [inlined]\n",
      "  [7] getindex\n",
      "    @ ./abstractarray.jl:1294 [inlined]\n",
      "  [8] balance!(A::Matrix{ForwardDiff.Dual{ForwardDiff.Tag{Main.GNM_Mod.var\"#g#26\"{Main.GNM_Mod.GNM_Weighted, Float64, Matrix{Float64}, Matrix{Float64}}, Float64}, Float64, 1}}; scale::Bool, permute::Bool, p::Int64, algo::Symbol)\n",
      "    @ GenericSchur ~/.julia/packages/GenericSchur/khMJ1/src/balance.jl:186\n",
      "  [9] balance!\n",
      "    @ ~/.julia/packages/GenericSchur/khMJ1/src/balance.jl:33 [inlined]\n",
      " [10] exponential!(A::Matrix{ForwardDiff.Dual{ForwardDiff.Tag{Main.GNM_Mod.var\"#g#26\"{Main.GNM_Mod.GNM_Weighted, Float64, Matrix{Float64}, Matrix{Float64}}, Float64}, Float64, 1}}, method::ExponentialUtilities.ExpMethodHigham2005, _cache::Tuple{Vector{Matrix{ForwardDiff.Dual{ForwardDiff.Tag{Main.GNM_Mod.var\"#g#26\"{Main.GNM_Mod.GNM_Weighted, Float64, Matrix{Float64}, Matrix{Float64}}, Float64}, Float64, 1}}}, Nothing})\n",
      "    @ ExponentialUtilities ~/.julia/packages/ExponentialUtilities/x24Py/src/exp_noalloc.jl:90\n",
      " [11] exponential!\n",
      "    @ ~/.julia/packages/ExponentialUtilities/x24Py/src/exp_noalloc.jl:81 [inlined]\n",
      " [12] norm_obj_func_auto_diff(W::Matrix{ForwardDiff.Dual{ForwardDiff.Tag{Main.GNM_Mod.var\"#g#26\"{Main.GNM_Mod.GNM_Weighted, Float64, Matrix{Float64}, Matrix{Float64}}, Float64}, Float64, 1}}, D::Matrix{Float64}, ω::Float64)\n",
      "    @ Main.GNM_Mod ~/diss/gnm/gnm.jl:329\n",
      " [13] g\n",
      "    @ ~/diss/gnm/gnm.jl:387 [inlined]\n",
      " [14] derivative\n",
      "    @ ~/.julia/packages/ForwardDiff/vXysl/src/derivative.jl:14 [inlined]\n",
      " [15] generate_models(model::Main.GNM_Mod.GNM_Weighted)\n",
      "    @ Main.GNM_Mod ~/diss/gnm/gnm.jl:390\n",
      " [16] top-level scope\n",
      "    @ ~/diss/gnm/analysis-weighted/xxx.ipynb:2"
     ]
    }
   ],
   "source": [
    "model = GNM_Mod.GNM(A_Y, D, A_init, params, 1, true, W_Y, 0)\n",
    "GNM_Mod.generate_models(model)"
   ]
  },
  {
   "cell_type": "code",
   "execution_count": 14,
   "metadata": {},
   "outputs": [
    {
     "data": {
      "text/plain": [
       "(31, 31, 31, 31)"
      ]
     },
     "metadata": {},
     "output_type": "display_data"
    }
   ],
   "source": [
    "size(params_tups)"
   ]
  },
  {
   "cell_type": "code",
   "execution_count": null,
   "metadata": {},
   "outputs": [],
   "source": []
  }
 ],
 "metadata": {
  "kernelspec": {
   "display_name": "Julia 1.9.2",
   "language": "julia",
   "name": "julia-1.9"
  },
  "language_info": {
   "file_extension": ".jl",
   "mimetype": "application/julia",
   "name": "julia",
   "version": "1.9.2"
  },
  "orig_nbformat": 4
 },
 "nbformat": 4,
 "nbformat_minor": 2
}
