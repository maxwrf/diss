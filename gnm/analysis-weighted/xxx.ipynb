{
 "cells": [
  {
   "cell_type": "code",
   "execution_count": 45,
   "metadata": {},
   "outputs": [
    {
     "data": {
      "text/plain": [
       "global_efficiency (generic function with 1 method)"
      ]
     },
     "execution_count": 45,
     "metadata": {},
     "output_type": "execute_result"
    }
   ],
   "source": [
    "using LinearAlgebra\n",
    "using ExponentialUtilities\n",
    "\n",
    "include(\"../test_data.jl\")\n",
    "include(\"../graph_utils.jl\")\n",
    "\n",
    "# using Lux\n",
    "# using Random\n",
    "# using Zygote\n",
    "# using Optimisers\n",
    "# using Plots\n",
    "# using Distributions\n",
    "# using Statistics"
   ]
  },
  {
   "cell_type": "code",
   "execution_count": 91,
   "metadata": {},
   "outputs": [
    {
     "data": {
      "text/plain": [
       "ExpMethodHigham2005(true)"
      ]
     },
     "execution_count": 91,
     "metadata": {},
     "output_type": "execute_result"
    }
   ],
   "source": [
    "ExpMethodHigham2005(W_Y)"
   ]
  },
  {
   "cell_type": "code",
   "execution_count": 70,
   "metadata": {},
   "outputs": [],
   "source": [
    "W_Y, D, A_init, coord = load_weight_test_data()\n",
    "global_efficiency(W_Y)\n",
    "\n",
    "W_init = rand(size(W_Y)...)\n",
    "W_init = W_init .* (W_Y .> 0);"
   ]
  },
  {
   "cell_type": "code",
   "execution_count": 92,
   "metadata": {},
   "outputs": [
    {
     "data": {
      "text/plain": [
       "loss (generic function with 2 methods)"
      ]
     },
     "execution_count": 92,
     "metadata": {},
     "output_type": "execute_result"
    }
   ],
   "source": [
    "ω = 1\n",
    "\n",
    "function loss(W)\n",
    "    # compute S\n",
    "    node_strengths = dropdims(sum(W, dims=2), dims=2)\n",
    "    node_strengths[node_strengths.==0] .= 1e-5\n",
    "    S = sqrt(inv(Diagonal(node_strengths)))\n",
    "\n",
    "    # compute communicability\n",
    "    #method=ExpMethodHigham2005();\n",
    "    #cache=ExponentialUtilities.alloc_mem(W,method);\n",
    "    #C = exponential( S * W * S, method, cache)\n",
    "\n",
    "    C = exp(S*W*S)\n",
    "    C[diagind(C)] .= 0.0\n",
    "\n",
    "    optimal_eficiency =  global_efficiency((1/maximum(W_Y) .+ zeros(size(W_Y))) .* (W_Y .> 0))\n",
    "    current_efficiency = global_efficiency(W) \n",
    "    communicability = sum((W .* C .* D) .^ ω)\n",
    "\n",
    "    # the weights must be at that position nad larger than zero\n",
    "    return (optimal_eficiency - current_efficiency) + communicability\n",
    "end"
   ]
  },
  {
   "cell_type": "code",
   "execution_count": 48,
   "metadata": {},
   "outputs": [
    {
     "data": {
      "text/plain": [
       "512.7366084367804"
      ]
     },
     "execution_count": 48,
     "metadata": {},
     "output_type": "execute_result"
    }
   ],
   "source": [
    "loss(W_Y, 0.1)"
   ]
  },
  {
   "cell_type": "code",
   "execution_count": 78,
   "metadata": {},
   "outputs": [
    {
     "data": {
      "text/plain": [
       "gradient_descent (generic function with 1 method)"
      ]
     },
     "execution_count": 78,
     "metadata": {},
     "output_type": "execute_result"
    }
   ],
   "source": [
    "function gradient_descent(f, x, η, T; callback = x -> nothing)\n",
    "    for t in 1:T\n",
    "\t\t∇f = gradient(f, x)[1] # compute the gradient\n",
    "        println(\"∇f: \", ∇f)\n",
    "        x .-= η * ∇f # update parameters in direction of -∇f\n",
    "        callback(x) # the callback will be used to save intermediate values\n",
    "    end\n",
    "    x\n",
    "end"
   ]
  },
  {
   "cell_type": "code",
   "execution_count": 76,
   "metadata": {},
   "outputs": [
    {
     "data": {
      "text/plain": [
       "example (generic function with 1 method)"
      ]
     },
     "execution_count": 76,
     "metadata": {},
     "output_type": "execute_result"
    }
   ],
   "source": [
    "function example()\n",
    "    Random.seed!(5)\n",
    "    f(x, θ) = θ[1] * sin.(θ[2] * x .+ θ[3]) .+ θ[4] * sin.(θ[5] * x .+ θ[6])\n",
    "    f(x) = 0.3 * sin(2x) + .7 * sin(3.5x + 1)\n",
    "    x3 = randn(50)\n",
    "    y3 = f.(x3)\n",
    "    mse(θ) = mean((y3 .- f(x3, θ)).^2)\n",
    "    gradient_descent(mse, params3, .1, 10^4)\n",
    "end\n",
    "\n"
   ]
  },
  {
   "cell_type": "code",
   "execution_count": 93,
   "metadata": {},
   "outputs": [
    {
     "ename": "LoadError",
     "evalue": "Mutating arrays is not supported -- called copyto!(SubArray{Float64, 1, Vector{Float64}, Tuple{StepRange{Int64, Int64}}, true}, ...)\nThis error occurs when you ask Zygote to differentiate operations that change\nthe elements of arrays in place (e.g. setting values with x .= ...)\n\nPossible fixes:\n- avoid mutating operations (preferred)\n- or read the documentation and solutions for this error\n  https://fluxml.ai/Zygote.jl/latest/limitations\n",
     "output_type": "error",
     "traceback": [
      "Mutating arrays is not supported -- called copyto!(SubArray{Float64, 1, Vector{Float64}, Tuple{StepRange{Int64, Int64}}, true}, ...)\nThis error occurs when you ask Zygote to differentiate operations that change\nthe elements of arrays in place (e.g. setting values with x .= ...)\n\nPossible fixes:\n- avoid mutating operations (preferred)\n- or read the documentation and solutions for this error\n  https://fluxml.ai/Zygote.jl/latest/limitations\n",
      "",
      "Stacktrace:",
      "  [1] error(s::String)",
      "    @ Base ./error.jl:35",
      "  [2] _throw_mutation_error(f::Function, args::SubArray{Float64, 1, Vector{Float64}, Tuple{StepRange{Int64, Int64}}, true})",
      "    @ Zygote ~/.julia/packages/Zygote/JeHtr/src/lib/array.jl:88",
      "  [3] (::Zygote.var\"#555#556\"{SubArray{Float64, 1, Vector{Float64}, Tuple{StepRange{Int64, Int64}}, true}})(#unused#::Nothing)",
      "    @ Zygote ~/.julia/packages/Zygote/JeHtr/src/lib/array.jl:103",
      "  [4] (::Zygote.var\"#2669#back#557\"{Zygote.var\"#555#556\"{SubArray{Float64, 1, Vector{Float64}, Tuple{StepRange{Int64, Int64}}, true}}})(Δ::Nothing)",
      "    @ Zygote ~/.julia/packages/ZygoteRules/OgCVT/src/adjoint.jl:71",
      "  [5] Pullback",
      "    @ ./broadcast.jl:884 [inlined]",
      "  [6] Pullback",
      "    @ ./broadcast.jl:881 [inlined]",
      "  [7] Pullback",
      "    @ ./broadcast.jl:877 [inlined]",
      "  [8] (::Zygote.Pullback{Tuple{typeof(Base.Broadcast.materialize!), SubArray{Float64, 1, Vector{Float64}, Tuple{StepRange{Int64, Int64}}, true}, Int64}, Tuple{Zygote.Pullback{Tuple{typeof(Base.Broadcast.materialize!), SubArray{Float64, 1, Vector{Float64}, Tuple{StepRange{Int64, Int64}}, true}, Base.Broadcast.Broadcasted{Base.Broadcast.DefaultArrayStyle{0}, Tuple{Base.OneTo{Int64}}, typeof(identity), Tuple{Int64}}}, Tuple{Zygote.Pullback{Tuple{typeof(Base.Broadcast.materialize!), Base.Broadcast.DefaultArrayStyle{1}, SubArray{Float64, 1, Vector{Float64}, Tuple{StepRange{Int64, Int64}}, true}, Base.Broadcast.Broadcasted{Base.Broadcast.DefaultArrayStyle{0}, Tuple{Base.OneTo{Int64}}, typeof(identity), Tuple{Int64}}}, Tuple{Zygote.var\"#2184#back#299\"{Zygote.var\"#back#298\"{:args, Zygote.Context{false}, Base.Broadcast.Broadcasted{Base.Broadcast.DefaultArrayStyle{0}, Tuple{Base.OneTo{Int64}}, typeof(identity), Tuple{Int64}}, Tuple{Int64}}}, Zygote.ZBack{ChainRules.var\"#uninstantiate#1720\"}, Zygote.var\"#2669#back#557\"{Zygote.var\"#555#556\"{SubArray{Float64, 1, Vector{Float64}, Tuple{StepRange{Int64, Int64}}, true}}}, Zygote.Pullback{Tuple{Type{Base.Broadcast.Broadcasted{Base.Broadcast.DefaultArrayStyle{0}}}, typeof(identity), Tuple{Int64}, Tuple{Base.OneTo{Int64}}}, Tuple{Zygote.ZBack{ChainRules.var\"#typeof_pullback#45\"}, Zygote.Pullback{Tuple{Type{Base.Broadcast.Broadcasted{Base.Broadcast.DefaultArrayStyle{0}, Tuple{Base.OneTo{Int64}}, typeof(identity), Tuple{Int64}}}, typeof(identity), Tuple{Int64}, Tuple{Base.OneTo{Int64}}}, Tuple{Zygote.ZBack{ChainRules.var\"#fieldtype_pullback#421\"}, Zygote.Pullback{Tuple{typeof(convert), Type{typeof(identity)}, typeof(identity)}, Tuple{}}, Zygote.ZBack{ChainRules.var\"#fieldtype_pullback#421\"}, Zygote.var\"#2214#back#309\"{Zygote.Jnew{Base.Broadcast.Broadcasted{Base.Broadcast.DefaultArrayStyle{0}, Tuple{Base.OneTo{Int64}}, typeof(identity), Tuple{Int64}}, Nothing, false}}, Zygote.Pullback{Tuple{typeof(convert), Type{Tuple{Int64}}, Tuple{Int64}}, Tuple{}}, Zygote.ZBack{ChainRules.var\"#fieldtype_pullback#421\"}, Zygote.Pullback{Tuple{typeof(convert), Type{Tuple{Base.OneTo{Int64}}}, Tuple{Base.OneTo{Int64}}}, Tuple{}}}}, Zygote.Pullback{Tuple{typeof(getproperty), Module, Symbol}, Tuple{Zygote.Pullback{Tuple{typeof(getglobal), Module, Symbol}, Tuple{typeof(getglobal)}}}}, Zygote.Pullback{Tuple{typeof(Core.Typeof), typeof(identity)}, Any}}}, Zygote.ZBack{ChainRules.var\"#axes_pullback#303\"}, Zygote.var\"#2184#back#299\"{Zygote.var\"#back#298\"{:f, Zygote.Context{false}, Base.Broadcast.Broadcasted{Base.Broadcast.DefaultArrayStyle{0}, Tuple{Base.OneTo{Int64}}, typeof(identity), Tuple{Int64}}, typeof(identity)}}}}, Zygote.var\"#combine_styles_pullback#1162\"{Tuple{Nothing, Nothing, Nothing}}}}, Zygote.ZBack{ChainRules.var\"#axes_pullback#303\"}, Zygote.Pullback{Tuple{Type{Base.Broadcast.Broadcasted}, typeof(identity), Tuple{Int64}, Tuple{Base.OneTo{Int64}}}, Tuple{Zygote.ZBack{ChainRules.var\"#typeof_pullback#45\"}, Zygote.Pullback{Tuple{Type{Base.Broadcast.Broadcasted{Base.Broadcast.DefaultArrayStyle{0}}}, typeof(identity), Tuple{Int64}, Tuple{Base.OneTo{Int64}}}, Tuple{Zygote.ZBack{ChainRules.var\"#typeof_pullback#45\"}, Zygote.Pullback{Tuple{Type{Base.Broadcast.Broadcasted{Base.Broadcast.DefaultArrayStyle{0}, Tuple{Base.OneTo{Int64}}, typeof(identity), Tuple{Int64}}}, typeof(identity), Tuple{Int64}, Tuple{Base.OneTo{Int64}}}, Tuple{Zygote.ZBack{ChainRules.var\"#fieldtype_pullback#421\"}, Zygote.Pullback{Tuple{typeof(convert), Type{typeof(identity)}, typeof(identity)}, Tuple{}}, Zygote.ZBack{ChainRules.var\"#fieldtype_pullback#421\"}, Zygote.var\"#2214#back#309\"{Zygote.Jnew{Base.Broadcast.Broadcasted{Base.Broadcast.DefaultArrayStyle{0}, Tuple{Base.OneTo{Int64}}, typeof(identity), Tuple{Int64}}, Nothing, false}}, Zygote.Pullback{Tuple{typeof(convert), Type{Tuple{Int64}}, Tuple{Int64}}, Tuple{}}, Zygote.ZBack{ChainRules.var\"#fieldtype_pullback#421\"}, Zygote.Pullback{Tuple{typeof(convert), Type{Tuple{Base.OneTo{Int64}}}, Tuple{Base.OneTo{Int64}}}, Tuple{}}}}, Zygote.Pullback{Tuple{typeof(getproperty), Module, Symbol}, Tuple{Zygote.Pullback{Tuple{typeof(getglobal), Module, Symbol}, Tuple{typeof(getglobal)}}}}, Zygote.Pullback{Tuple{typeof(Core.Typeof), typeof(identity)}, Any}}}, Zygote.var\"#2173#back#289\"{Zygote.var\"#287#288\"{Tuple{Tuple{Nothing}}, Zygote.var\"#combine_styles_pullback#1162\"{Tuple{Nothing, Nothing}}}}}}, Zygote.ZBack{ChainRules.var\"#uninstantiate#1720\"}, Zygote.var\"#2017#back#200\"{typeof(identity)}}})(Δ::Nothing)",
      "    @ Zygote ~/.julia/packages/Zygote/JeHtr/src/compiler/interface2.jl:0",
      "  [9] Pullback",
      "    @ ~/code/diss/gnm/graph_utils.jl:214 [inlined]",
      " [10] (::Zygote.Pullback{Tuple{typeof(global_efficiency), Matrix{Float64}}, Any})(Δ::Float64)",
      "    @ Zygote ~/.julia/packages/Zygote/JeHtr/src/compiler/interface2.jl:0",
      " [11] Pullback",
      "    @ ./In[92]:18 [inlined]",
      " [12] (::Zygote.Pullback{Tuple{typeof(loss), Matrix{Float64}}, Tuple{Zygote.Pullback{Tuple{typeof(*), Diagonal{Float64, Vector{Float64}}, Matrix{Float64}, Diagonal{Float64, Vector{Float64}}}, Tuple{Zygote.Pullback{Tuple{typeof(LinearAlgebra._muldiag_size_check), Matrix{Float64}, Diagonal{Float64, Vector{Float64}}}, Any}, Zygote.var\"#2751#back#595\"{Zygote.var\"#591#594\"}, Zygote.var\"#4155#back#1380\"{Zygote.var\"#4106#back#1349\"{ComposedFunction{typeof(Base.tail), Zygote.var\"#bc_fwd_back#1394\"{Matrix{ForwardDiff.Dual{Nothing, Float64, 3}}, Tuple{Vector{Float64}, Matrix{Float64}, Matrix{Float64}}, Val{3}}}}}, Zygote.var\"#2184#back#299\"{Zygote.var\"#back#298\"{:diag, Zygote.Context{false}, Diagonal{Float64, Vector{Float64}}, Vector{Float64}}}, Zygote.var\"#2184#back#299\"{Zygote.var\"#back#298\"{:diag, Zygote.Context{false}, Diagonal{Float64, Vector{Float64}}, Vector{Float64}}}, Zygote.Pullback{Tuple{typeof(LinearAlgebra._muldiag_size_check), Diagonal{Float64, Vector{Float64}}, Matrix{Float64}}, Any}}}, Zygote.Pullback{Tuple{Type{NamedTuple{(:dims,)}}, Tuple{Int64}}, Tuple{Zygote.Pullback{Tuple{Type{NamedTuple{(:dims,), Tuple{Int64}}}, Tuple{Int64}}, Tuple{Zygote.var\"#2224#back#311\"{Zygote.Jnew{NamedTuple{(:dims,), Tuple{Int64}}, Nothing, true}}}}}}, Zygote.var\"#3139#back#837\"{Zygote.var\"#833#836\"{Diagonal{Float64, Vector{Float64}}}}, Zygote.Pullback{Tuple{typeof(Base.Broadcast.materialize), Matrix{Float64}}, Tuple{}}, Zygote.var\"#kw_zpullback#53\"{ChainRules.var\"#dropdims_pullback#1377\"{ChainRulesCore.ProjectTo{AbstractArray, NamedTuple{(:element, :axes), Tuple{ChainRulesCore.ProjectTo{Float64, NamedTuple{(), Tuple{}}}, Tuple{Base.OneTo{Int64}, Base.OneTo{Int64}}}}}, Tuple{Base.OneTo{Int64}, Base.OneTo{Int64}}}}, Zygote.ZBack{ChainRules.var\"#-_pullback#1335\"{Int64, Bool, ChainRulesCore.ProjectTo{Float64, NamedTuple{(), Tuple{}}}, ChainRulesCore.ProjectTo{Float64, NamedTuple{(), Tuple{}}}}}, Zygote.var\"#3898#back#1243\"{Zygote.var\"#1239#1242\"}, Zygote.Pullback{Tuple{typeof(Base.Broadcast.broadcasted), typeof(>), Matrix{Float64}, Int64}, Tuple{Zygote.var\"#2173#back#289\"{Zygote.var\"#287#288\"{Tuple{Tuple{Nothing, Nothing}, Tuple{}}, Zygote.var\"#combine_styles_pullback#1162\"{Tuple{Nothing, Nothing, Nothing}}}}, Zygote.Pullback{Tuple{typeof(Base.Broadcast.broadcastable), Int64}, Tuple{}}, Zygote.var\"#2017#back#200\"{typeof(identity)}, Zygote.Pullback{Tuple{typeof(Base.Broadcast.broadcastable), Matrix{Float64}}, Tuple{}}, Zygote.var\"#2017#back#200\"{typeof(identity)}, Zygote.var\"#2881#back#684\"{Zygote.var\"#map_back#678\"{typeof(Base.Broadcast.broadcastable), 1, Tuple{Tuple{}}, Tuple{Val{0}}, Tuple{}}}, Zygote.var\"#2173#back#289\"{Zygote.var\"#287#288\"{Tuple{NTuple{4, Nothing}, Tuple{}}, Zygote.var\"#4123#back#1356\"{Zygote.var\"#1360#1365\"}}}}}, Zygote.var\"#1990#back#190\"{Zygote.var\"#186#189\"{Zygote.Context{false}, GlobalRef, Matrix{Float64}}}, Zygote.Pullback{Tuple{typeof(Base.Broadcast.dotview), Matrix{Float64}, StepRange{Int64, Int64}}, Tuple{Zygote.var\"#2173#back#289\"{Zygote.var\"#287#288\"{Tuple{Tuple{Nothing, Nothing}}, Zygote.Pullback{Tuple{typeof(Base.maybeview), Matrix{Float64}, StepRange{Int64, Int64}}, Tuple{Zygote.var\"#2173#back#289\"{Zygote.var\"#287#288\"{Tuple{Tuple{Nothing}, Tuple{Nothing}}, Zygote.var\"#2626#back#535\"{Zygote.var\"#539#541\"{2, Float64, Matrix{Float64}, Tuple{StepRange{Int64, Int64}}}}}}, Zygote.var\"#2017#back#200\"{typeof(identity)}}}}}}}, Zygote.var\"#2017#back#200\"{typeof(identity)}, Zygote.Pullback{Tuple{typeof(Base.Broadcast.materialize), BitVector}, Tuple{}}, Zygote.Pullback{Tuple{typeof(Base.Broadcast.materialize), Matrix{Float64}}, Tuple{}}, Zygote.var\"#3802#back#1201\"{Zygote.var\"#1197#1200\"{Matrix{Float64}, BitMatrix}}, Zygote.var\"#1990#back#190\"{Zygote.var\"#186#189\"{Zygote.Context{false}, GlobalRef, Matrix{Float64}}}, Zygote.var\"#1990#back#190\"{Zygote.var\"#186#189\"{Zygote.Context{false}, GlobalRef, Int64}}, Zygote.var\"#2017#back#200\"{typeof(identity)}, Zygote.var\"#3034#back#780\"{Zygote.var\"#773#777\"{Matrix{Float64}}}, Zygote.Pullback{Tuple{typeof(global_efficiency), Matrix{Float64}}, Any}, Zygote.ZBack{Zygote.var\"#plus_pullback#341\"{Tuple{Float64, Float64}}}, Zygote.ZBack{ChainRules.var\"#/_pullback#1336\"{Float64, Float64, ChainRulesCore.ProjectTo{Float64, NamedTuple{(), Tuple{}}}, ChainRulesCore.ProjectTo{Float64, NamedTuple{(), Tuple{}}}}}, Zygote.ZBack{ChainRules.var\"#sqrt_pullback#2039\"{Diagonal{Float64, Vector{Float64}}}}, Zygote.var\"#3802#back#1201\"{Zygote.var\"#1197#1200\"{Matrix{Float64}, Matrix{Float64}}}, Zygote.Pullback{Tuple{typeof(Base.Broadcast.broadcasted), typeof(==), Vector{Float64}, Int64}, Tuple{Zygote.var\"#2173#back#289\"{Zygote.var\"#287#288\"{Tuple{Tuple{Nothing, Nothing}, Tuple{}}, Zygote.var\"#combine_styles_pullback#1162\"{Tuple{Nothing, Nothing, Nothing}}}}, Zygote.Pullback{Tuple{typeof(Base.Broadcast.broadcastable), Int64}, Tuple{}}, Zygote.var\"#2017#back#200\"{typeof(identity)}, Zygote.Pullback{Tuple{typeof(Base.Broadcast.broadcastable), Vector{Float64}}, Tuple{}}, Zygote.var\"#2017#back#200\"{typeof(identity)}, Zygote.var\"#2881#back#684\"{Zygote.var\"#map_back#678\"{typeof(Base.Broadcast.broadcastable), 1, Tuple{Tuple{}}, Tuple{Val{0}}, Tuple{}}}, Zygote.var\"#2173#back#289\"{Zygote.var\"#287#288\"{Tuple{NTuple{4, Nothing}, Tuple{}}, Zygote.var\"#4123#back#1356\"{Zygote.var\"#1360#1365\"}}}}}, Zygote.Pullback{Tuple{typeof(diagind), Matrix{Float64}}, Tuple{Zygote.Pullback{Tuple{typeof(diagind), Matrix{Float64}, Int64}, Tuple{Zygote.ZBack{ChainRules.var\"#size_pullback#919\"}, Zygote.Pullback{Tuple{typeof(Base.require_one_based_indexing), Matrix{Float64}}, Any}, Zygote.ZBack{ChainRules.var\"#size_pullback#919\"}, Zygote.Pullback{Tuple{typeof(diagind), Int64, Int64, Int64}, Any}}}}}, Zygote.var\"#1990#back#190\"{Zygote.var\"#186#189\"{Zygote.Context{false}, GlobalRef, Matrix{Float64}}}, Zygote.ZBack{typeof(ChainRules._Diagonal_pullback)}, Zygote.Pullback{Tuple{typeof(Base.Broadcast.materialize!), SubArray{Float64, 1, Vector{Float64}, Tuple{Vector{Int64}}, false}, Float64}, Tuple{Zygote.Pullback{Tuple{typeof(Base.Broadcast.materialize!), SubArray{Float64, 1, Vector{Float64}, Tuple{Vector{Int64}}, false}, Base.Broadcast.Broadcasted{Base.Broadcast.DefaultArrayStyle{0}, Tuple{Base.OneTo{Int64}}, typeof(identity), Tuple{Float64}}}, Tuple{Zygote.Pullback{Tuple{typeof(Base.Broadcast.materialize!), Base.Broadcast.DefaultArrayStyle{1}, SubArray{Float64, 1, Vector{Float64}, Tuple{Vector{Int64}}, false}, Base.Broadcast.Broadcasted{Base.Broadcast.DefaultArrayStyle{0}, Tuple{Base.OneTo{Int64}}, typeof(identity), Tuple{Float64}}}, Tuple{Zygote.var\"#2184#back#299\"{Zygote.var\"#back#298\"{:args, Zygote.Context{false}, Base.Broadcast.Broadcasted{Base.Broadcast.DefaultArrayStyle{0}, Tuple{Base.OneTo{Int64}}, typeof(identity), Tuple{Float64}}, Tuple{Float64}}}, Zygote.ZBack{ChainRules.var\"#uninstantiate#1720\"}, Zygote.var\"#2669#back#557\"{Zygote.var\"#555#556\"{SubArray{Float64, 1, Vector{Float64}, Tuple{Vector{Int64}}, false}}}, Zygote.Pullback{Tuple{Type{Base.Broadcast.Broadcasted{Base.Broadcast.DefaultArrayStyle{0}}}, typeof(identity), Tuple{Float64}, Tuple{Base.OneTo{Int64}}}, Tuple{Zygote.ZBack{ChainRules.var\"#typeof_pullback#45\"}, Zygote.Pullback{Tuple{Type{Base.Broadcast.Broadcasted{Base.Broadcast.DefaultArrayStyle{0}, Tuple{Base.OneTo{Int64}}, typeof(identity), Tuple{Float64}}}, typeof(identity), Tuple{Float64}, Tuple{Base.OneTo{Int64}}}, Tuple{Zygote.ZBack{ChainRules.var\"#fieldtype_pullback#421\"}, Zygote.Pullback{Tuple{typeof(convert), Type{typeof(identity)}, typeof(identity)}, Tuple{}}, Zygote.ZBack{ChainRules.var\"#fieldtype_pullback#421\"}, Zygote.var\"#2214#back#309\"{Zygote.Jnew{Base.Broadcast.Broadcasted{Base.Broadcast.DefaultArrayStyle{0}, Tuple{Base.OneTo{Int64}}, typeof(identity), Tuple{Float64}}, Nothing, false}}, Zygote.Pullback{Tuple{typeof(convert), Type{Tuple{Float64}}, Tuple{Float64}}, Tuple{}}, Zygote.ZBack{ChainRules.var\"#fieldtype_pullback#421\"}, Zygote.Pullback{Tuple{typeof(convert), Type{Tuple{Base.OneTo{Int64}}}, Tuple{Base.OneTo{Int64}}}, Tuple{}}}}, Zygote.Pullback{Tuple{typeof(getproperty), Module, Symbol}, Tuple{Zygote.Pullback{Tuple{typeof(getglobal), Module, Symbol}, Tuple{typeof(getglobal)}}}}, Zygote.Pullback{Tuple{typeof(Core.Typeof), typeof(identity)}, Any}}}, Zygote.ZBack{ChainRules.var\"#axes_pullback#303\"}, Zygote.var\"#2184#back#299\"{Zygote.var\"#back#298\"{:f, Zygote.Context{false}, Base.Broadcast.Broadcasted{Base.Broadcast.DefaultArrayStyle{0}, Tuple{Base.OneTo{Int64}}, typeof(identity), Tuple{Float64}}, typeof(identity)}}}}, Zygote.var\"#combine_styles_pullback#1162\"{Tuple{Nothing, Nothing, Nothing}}}}, Zygote.ZBack{ChainRules.var\"#axes_pullback#303\"}, Zygote.Pullback{Tuple{Type{Base.Broadcast.Broadcasted}, typeof(identity), Tuple{Float64}, Tuple{Base.OneTo{Int64}}}, Tuple{Zygote.ZBack{ChainRules.var\"#typeof_pullback#45\"}, Zygote.Pullback{Tuple{Type{Base.Broadcast.Broadcasted{Base.Broadcast.DefaultArrayStyle{0}}}, typeof(identity), Tuple{Float64}, Tuple{Base.OneTo{Int64}}}, Tuple{Zygote.ZBack{ChainRules.var\"#typeof_pullback#45\"}, Zygote.Pullback{Tuple{Type{Base.Broadcast.Broadcasted{Base.Broadcast.DefaultArrayStyle{0}, Tuple{Base.OneTo{Int64}}, typeof(identity), Tuple{Float64}}}, typeof(identity), Tuple{Float64}, Tuple{Base.OneTo{Int64}}}, Tuple{Zygote.ZBack{ChainRules.var\"#fieldtype_pullback#421\"}, Zygote.Pullback{Tuple{typeof(convert), Type{typeof(identity)}, typeof(identity)}, Tuple{}}, Zygote.ZBack{ChainRules.var\"#fieldtype_pullback#421\"}, Zygote.var\"#2214#back#309\"{Zygote.Jnew{Base.Broadcast.Broadcasted{Base.Broadcast.DefaultArrayStyle{0}, Tuple{Base.OneTo{Int64}}, typeof(identity), Tuple{Float64}}, Nothing, false}}, Zygote.Pullback{Tuple{typeof(convert), Type{Tuple{Float64}}, Tuple{Float64}}, Tuple{}}, Zygote.ZBack{ChainRules.var\"#fieldtype_pullback#421\"}, Zygote.Pullback{Tuple{typeof(convert), Type{Tuple{Base.OneTo{Int64}}}, Tuple{Base.OneTo{Int64}}}, Tuple{}}}}, Zygote.Pullback{Tuple{typeof(getproperty), Module, Symbol}, Tuple{Zygote.Pullback{Tuple{typeof(getglobal), Module, Symbol}, Tuple{typeof(getglobal)}}}}, Zygote.Pullback{Tuple{typeof(Core.Typeof), typeof(identity)}, Any}}}, Zygote.var\"#2173#back#289\"{Zygote.var\"#287#288\"{Tuple{Tuple{Nothing}}, Zygote.var\"#combine_styles_pullback#1162\"{Tuple{Nothing, Nothing}}}}}}, Zygote.ZBack{ChainRules.var\"#uninstantiate#1720\"}, Zygote.var\"#2017#back#200\"{typeof(identity)}}}, Zygote.ZBack{ChainRules.var\"#size_pullback#917\"}, Zygote.ZBack{ChainRules.var\"#zeros_pullback#1056\"{Tuple{Tuple{Int64, Int64}}}}, Zygote.Pullback{Tuple{typeof(Base.Broadcast.materialize!), SubArray{Float64, 1, Vector{Float64}, Tuple{StepRange{Int64, Int64}}, true}, Float64}, Tuple{Zygote.Pullback{Tuple{typeof(Base.Broadcast.materialize!), SubArray{Float64, 1, Vector{Float64}, Tuple{StepRange{Int64, Int64}}, true}, Base.Broadcast.Broadcasted{Base.Broadcast.DefaultArrayStyle{0}, Tuple{Base.OneTo{Int64}}, typeof(identity), Tuple{Float64}}}, Tuple{Zygote.Pullback{Tuple{typeof(Base.Broadcast.materialize!), Base.Broadcast.DefaultArrayStyle{1}, SubArray{Float64, 1, Vector{Float64}, Tuple{StepRange{Int64, Int64}}, true}, Base.Broadcast.Broadcasted{Base.Broadcast.DefaultArrayStyle{0}, Tuple{Base.OneTo{Int64}}, typeof(identity), Tuple{Float64}}}, Tuple{Zygote.var\"#2184#back#299\"{Zygote.var\"#back#298\"{:args, Zygote.Context{false}, Base.Broadcast.Broadcasted{Base.Broadcast.DefaultArrayStyle{0}, Tuple{Base.OneTo{Int64}}, typeof(identity), Tuple{Float64}}, Tuple{Float64}}}, Zygote.ZBack{ChainRules.var\"#uninstantiate#1720\"}, Zygote.var\"#2669#back#557\"{Zygote.var\"#555#556\"{SubArray{Float64, 1, Vector{Float64}, Tuple{StepRange{Int64, Int64}}, true}}}, Zygote.Pullback{Tuple{Type{Base.Broadcast.Broadcasted{Base.Broadcast.DefaultArrayStyle{0}}}, typeof(identity), Tuple{Float64}, Tuple{Base.OneTo{Int64}}}, Tuple{Zygote.ZBack{ChainRules.var\"#typeof_pullback#45\"}, Zygote.Pullback{Tuple{Type{Base.Broadcast.Broadcasted{Base.Broadcast.DefaultArrayStyle{0}, Tuple{Base.OneTo{Int64}}, typeof(identity), Tuple{Float64}}}, typeof(identity), Tuple{Float64}, Tuple{Base.OneTo{Int64}}}, Tuple{Zygote.ZBack{ChainRules.var\"#fieldtype_pullback#421\"}, Zygote.Pullback{Tuple{typeof(convert), Type{typeof(identity)}, typeof(identity)}, Tuple{}}, Zygote.ZBack{ChainRules.var\"#fieldtype_pullback#421\"}, Zygote.var\"#2214#back#309\"{Zygote.Jnew{Base.Broadcast.Broadcasted{Base.Broadcast.DefaultArrayStyle{0}, Tuple{Base.OneTo{Int64}}, typeof(identity), Tuple{Float64}}, Nothing, false}}, Zygote.Pullback{Tuple{typeof(convert), Type{Tuple{Float64}}, Tuple{Float64}}, Tuple{}}, Zygote.ZBack{ChainRules.var\"#fieldtype_pullback#421\"}, Zygote.Pullback{Tuple{typeof(convert), Type{Tuple{Base.OneTo{Int64}}}, Tuple{Base.OneTo{Int64}}}, Tuple{}}}}, Zygote.Pullback{Tuple{typeof(getproperty), Module, Symbol}, Tuple{Zygote.Pullback{Tuple{typeof(getglobal), Module, Symbol}, Tuple{typeof(getglobal)}}}}, Zygote.Pullback{Tuple{typeof(Core.Typeof), typeof(identity)}, Any}}}, Zygote.ZBack{ChainRules.var\"#axes_pullback#303\"}, Zygote.var\"#2184#back#299\"{Zygote.var\"#back#298\"{:f, Zygote.Context{false}, Base.Broadcast.Broadcasted{Base.Broadcast.DefaultArrayStyle{0}, Tuple{Base.OneTo{Int64}}, typeof(identity), Tuple{Float64}}, typeof(identity)}}}}, Zygote.var\"#combine_styles_pullback#1162\"{Tuple{Nothing, Nothing, Nothing}}}}, Zygote.ZBack{ChainRules.var\"#axes_pullback#303\"}, Zygote.Pullback{Tuple{Type{Base.Broadcast.Broadcasted}, typeof(identity), Tuple{Float64}, Tuple{Base.OneTo{Int64}}}, Tuple{Zygote.ZBack{ChainRules.var\"#typeof_pullback#45\"}, Zygote.Pullback{Tuple{Type{Base.Broadcast.Broadcasted{Base.Broadcast.DefaultArrayStyle{0}}}, typeof(identity), Tuple{Float64}, Tuple{Base.OneTo{Int64}}}, Tuple{Zygote.ZBack{ChainRules.var\"#typeof_pullback#45\"}, Zygote.Pullback{Tuple{Type{Base.Broadcast.Broadcasted{Base.Broadcast.DefaultArrayStyle{0}, Tuple{Base.OneTo{Int64}}, typeof(identity), Tuple{Float64}}}, typeof(identity), Tuple{Float64}, Tuple{Base.OneTo{Int64}}}, Tuple{Zygote.ZBack{ChainRules.var\"#fieldtype_pullback#421\"}, Zygote.Pullback{Tuple{typeof(convert), Type{typeof(identity)}, typeof(identity)}, Tuple{}}, Zygote.ZBack{ChainRules.var\"#fieldtype_pullback#421\"}, Zygote.var\"#2214#back#309\"{Zygote.Jnew{Base.Broadcast.Broadcasted{Base.Broadcast.DefaultArrayStyle{0}, Tuple{Base.OneTo{Int64}}, typeof(identity), Tuple{Float64}}, Nothing, false}}, Zygote.Pullback{Tuple{typeof(convert), Type{Tuple{Float64}}, Tuple{Float64}}, Tuple{}}, Zygote.ZBack{ChainRules.var\"#fieldtype_pullback#421\"}, Zygote.Pullback{Tuple{typeof(convert), Type{Tuple{Base.OneTo{Int64}}}, Tuple{Base.OneTo{Int64}}}, Tuple{}}}}, Zygote.Pullback{Tuple{typeof(getproperty), Module, Symbol}, Tuple{Zygote.Pullback{Tuple{typeof(getglobal), Module, Symbol}, Tuple{typeof(getglobal)}}}}, Zygote.Pullback{Tuple{typeof(Core.Typeof), typeof(identity)}, Any}}}, Zygote.var\"#2173#back#289\"{Zygote.var\"#287#288\"{Tuple{Tuple{Nothing}}, Zygote.var\"#combine_styles_pullback#1162\"{Tuple{Nothing, Nothing}}}}}}, Zygote.ZBack{ChainRules.var\"#uninstantiate#1720\"}, Zygote.var\"#2017#back#200\"{typeof(identity)}}}, Zygote.Pullback{Tuple{typeof(Base.Broadcast.dotview), Vector{Float64}, BitVector}, Tuple{Zygote.var\"#2173#back#289\"{Zygote.var\"#287#288\"{Tuple{Tuple{Nothing, Nothing}}, Zygote.Pullback{Tuple{typeof(Base.maybeview), Vector{Float64}, BitVector}, Tuple{Zygote.var\"#2173#back#289\"{Zygote.var\"#287#288\"{Tuple{Tuple{Nothing}, Tuple{Nothing}}, Zygote.var\"#2626#back#535\"{Zygote.var\"#539#541\"{1, Float64, Vector{Float64}, Tuple{BitVector}}}}}, Zygote.var\"#2017#back#200\"{typeof(identity)}}}}}}}, Zygote.ZBack{ChainRules.var\"#exp_pullback#2028\"{Tuple{Int32, Int32, Vector{Float64}, Vector{Float64}, Int64, Vector{Matrix{Float64}}, Matrix{Float64}, LU{Float64, Matrix{Float64}, Vector{Int32}}, Vector{Matrix{Float64}}}, Matrix{Float64}, Matrix{Float64}}}, Zygote.var\"#1990#back#190\"{Zygote.var\"#186#189\"{Zygote.Context{false}, GlobalRef, Matrix{Float64}}}, Zygote.Pullback{Tuple{typeof(Base.Broadcast.broadcasted), typeof(^), Matrix{Float64}, Int64}, Tuple{Zygote.var\"#2173#back#289\"{Zygote.var\"#287#288\"{Tuple{Tuple{Nothing, Nothing}, Tuple{}}, Zygote.var\"#combine_styles_pullback#1162\"{Tuple{Nothing, Nothing, Nothing}}}}, Zygote.Pullback{Tuple{typeof(Base.Broadcast.broadcastable), Int64}, Tuple{}}, Zygote.var\"#2017#back#200\"{typeof(identity)}, Zygote.Pullback{Tuple{typeof(Base.Broadcast.broadcastable), Matrix{Float64}}, Tuple{}}, Zygote.var\"#2017#back#200\"{typeof(identity)}, Zygote.var\"#2881#back#684\"{Zygote.var\"#map_back#678\"{typeof(Base.Broadcast.broadcastable), 1, Tuple{Tuple{}}, Tuple{Val{0}}, Tuple{}}}, Zygote.var\"#2173#back#289\"{Zygote.var\"#287#288\"{Tuple{NTuple{4, Nothing}, Tuple{}}, Zygote.var\"#4123#back#1356\"{Zygote.var\"#∇broadcasted#1367\"{Tuple{Matrix{Float64}, Int64}, Matrix{Tuple{Float64, Zygote.ZBack{ChainRules.var\"#power_pullback#1338\"{Float64, Int64, ChainRulesCore.ProjectTo{Float64, NamedTuple{(), Tuple{}}}, ChainRulesCore.ProjectTo{Float64, NamedTuple{(), Tuple{}}}, Float64}}}}, Val{3}}}}}}}, Zygote.ZBack{ChainRules.var\"#maximum_pullback#1459\"{ChainRules.var\"#findmax_pullback#1456\"{Matrix{Float64}, CartesianIndex{2}}}}, Zygote.var\"#3027#back#778\"{Zygote.var\"#772#776\"{Matrix{Float64}}}, Zygote.var\"#3802#back#1201\"{Zygote.var\"#1197#1200\"{Matrix{Float64}, Matrix{Float64}}}, Zygote.Pullback{Tuple{typeof(global_efficiency), Matrix{Float64}}, Any}, Zygote.var\"#3754#back#1177\"{Zygote.var\"#1171#1175\"{Tuple{Float64, Matrix{Float64}}}}, Zygote.var\"#3898#back#1243\"{Zygote.var\"#1239#1242\"}, Zygote.Pullback{Tuple{Type{NamedTuple{(:dims,)}}, Tuple{Int64}}, Tuple{Zygote.Pullback{Tuple{Type{NamedTuple{(:dims,), Tuple{Int64}}}, Tuple{Int64}}, Tuple{Zygote.var\"#2224#back#311\"{Zygote.Jnew{NamedTuple{(:dims,), Tuple{Int64}}, Nothing, true}}}}}}}})(Δ::Float64)",
      "    @ Zygote ~/.julia/packages/Zygote/JeHtr/src/compiler/interface2.jl:0",
      " [13] (::Zygote.var\"#75#76\"{Zygote.Pullback{Tuple{typeof(loss), Matrix{Float64}}, Tuple{Zygote.Pullback{Tuple{typeof(*), Diagonal{Float64, Vector{Float64}}, Matrix{Float64}, Diagonal{Float64, Vector{Float64}}}, Tuple{Zygote.Pullback{Tuple{typeof(LinearAlgebra._muldiag_size_check), Matrix{Float64}, Diagonal{Float64, Vector{Float64}}}, Any}, Zygote.var\"#2751#back#595\"{Zygote.var\"#591#594\"}, Zygote.var\"#4155#back#1380\"{Zygote.var\"#4106#back#1349\"{ComposedFunction{typeof(Base.tail), Zygote.var\"#bc_fwd_back#1394\"{Matrix{ForwardDiff.Dual{Nothing, Float64, 3}}, Tuple{Vector{Float64}, Matrix{Float64}, Matrix{Float64}}, Val{3}}}}}, Zygote.var\"#2184#back#299\"{Zygote.var\"#back#298\"{:diag, Zygote.Context{false}, Diagonal{Float64, Vector{Float64}}, Vector{Float64}}}, Zygote.var\"#2184#back#299\"{Zygote.var\"#back#298\"{:diag, Zygote.Context{false}, Diagonal{Float64, Vector{Float64}}, Vector{Float64}}}, Zygote.Pullback{Tuple{typeof(LinearAlgebra._muldiag_size_check), Diagonal{Float64, Vector{Float64}}, Matrix{Float64}}, Any}}}, Zygote.Pullback{Tuple{Type{NamedTuple{(:dims,)}}, Tuple{Int64}}, Tuple{Zygote.Pullback{Tuple{Type{NamedTuple{(:dims,), Tuple{Int64}}}, Tuple{Int64}}, Tuple{Zygote.var\"#2224#back#311\"{Zygote.Jnew{NamedTuple{(:dims,), Tuple{Int64}}, Nothing, true}}}}}}, Zygote.var\"#3139#back#837\"{Zygote.var\"#833#836\"{Diagonal{Float64, Vector{Float64}}}}, Zygote.Pullback{Tuple{typeof(Base.Broadcast.materialize), Matrix{Float64}}, Tuple{}}, Zygote.var\"#kw_zpullback#53\"{ChainRules.var\"#dropdims_pullback#1377\"{ChainRulesCore.ProjectTo{AbstractArray, NamedTuple{(:element, :axes), Tuple{ChainRulesCore.ProjectTo{Float64, NamedTuple{(), Tuple{}}}, Tuple{Base.OneTo{Int64}, Base.OneTo{Int64}}}}}, Tuple{Base.OneTo{Int64}, Base.OneTo{Int64}}}}, Zygote.ZBack{ChainRules.var\"#-_pullback#1335\"{Int64, Bool, ChainRulesCore.ProjectTo{Float64, NamedTuple{(), Tuple{}}}, ChainRulesCore.ProjectTo{Float64, NamedTuple{(), Tuple{}}}}}, Zygote.var\"#3898#back#1243\"{Zygote.var\"#1239#1242\"}, Zygote.Pullback{Tuple{typeof(Base.Broadcast.broadcasted), typeof(>), Matrix{Float64}, Int64}, Tuple{Zygote.var\"#2173#back#289\"{Zygote.var\"#287#288\"{Tuple{Tuple{Nothing, Nothing}, Tuple{}}, Zygote.var\"#combine_styles_pullback#1162\"{Tuple{Nothing, Nothing, Nothing}}}}, Zygote.Pullback{Tuple{typeof(Base.Broadcast.broadcastable), Int64}, Tuple{}}, Zygote.var\"#2017#back#200\"{typeof(identity)}, Zygote.Pullback{Tuple{typeof(Base.Broadcast.broadcastable), Matrix{Float64}}, Tuple{}}, Zygote.var\"#2017#back#200\"{typeof(identity)}, Zygote.var\"#2881#back#684\"{Zygote.var\"#map_back#678\"{typeof(Base.Broadcast.broadcastable), 1, Tuple{Tuple{}}, Tuple{Val{0}}, Tuple{}}}, Zygote.var\"#2173#back#289\"{Zygote.var\"#287#288\"{Tuple{NTuple{4, Nothing}, Tuple{}}, Zygote.var\"#4123#back#1356\"{Zygote.var\"#1360#1365\"}}}}}, Zygote.var\"#1990#back#190\"{Zygote.var\"#186#189\"{Zygote.Context{false}, GlobalRef, Matrix{Float64}}}, Zygote.Pullback{Tuple{typeof(Base.Broadcast.dotview), Matrix{Float64}, StepRange{Int64, Int64}}, Tuple{Zygote.var\"#2173#back#289\"{Zygote.var\"#287#288\"{Tuple{Tuple{Nothing, Nothing}}, Zygote.Pullback{Tuple{typeof(Base.maybeview), Matrix{Float64}, StepRange{Int64, Int64}}, Tuple{Zygote.var\"#2173#back#289\"{Zygote.var\"#287#288\"{Tuple{Tuple{Nothing}, Tuple{Nothing}}, Zygote.var\"#2626#back#535\"{Zygote.var\"#539#541\"{2, Float64, Matrix{Float64}, Tuple{StepRange{Int64, Int64}}}}}}, Zygote.var\"#2017#back#200\"{typeof(identity)}}}}}}}, Zygote.var\"#2017#back#200\"{typeof(identity)}, Zygote.Pullback{Tuple{typeof(Base.Broadcast.materialize), BitVector}, Tuple{}}, Zygote.Pullback{Tuple{typeof(Base.Broadcast.materialize), Matrix{Float64}}, Tuple{}}, Zygote.var\"#3802#back#1201\"{Zygote.var\"#1197#1200\"{Matrix{Float64}, BitMatrix}}, Zygote.var\"#1990#back#190\"{Zygote.var\"#186#189\"{Zygote.Context{false}, GlobalRef, Matrix{Float64}}}, Zygote.var\"#1990#back#190\"{Zygote.var\"#186#189\"{Zygote.Context{false}, GlobalRef, Int64}}, Zygote.var\"#2017#back#200\"{typeof(identity)}, Zygote.var\"#3034#back#780\"{Zygote.var\"#773#777\"{Matrix{Float64}}}, Zygote.Pullback{Tuple{typeof(global_efficiency), Matrix{Float64}}, Any}, Zygote.ZBack{Zygote.var\"#plus_pullback#341\"{Tuple{Float64, Float64}}}, Zygote.ZBack{ChainRules.var\"#/_pullback#1336\"{Float64, Float64, ChainRulesCore.ProjectTo{Float64, NamedTuple{(), Tuple{}}}, ChainRulesCore.ProjectTo{Float64, NamedTuple{(), Tuple{}}}}}, Zygote.ZBack{ChainRules.var\"#sqrt_pullback#2039\"{Diagonal{Float64, Vector{Float64}}}}, Zygote.var\"#3802#back#1201\"{Zygote.var\"#1197#1200\"{Matrix{Float64}, Matrix{Float64}}}, Zygote.Pullback{Tuple{typeof(Base.Broadcast.broadcasted), typeof(==), Vector{Float64}, Int64}, Tuple{Zygote.var\"#2173#back#289\"{Zygote.var\"#287#288\"{Tuple{Tuple{Nothing, Nothing}, Tuple{}}, Zygote.var\"#combine_styles_pullback#1162\"{Tuple{Nothing, Nothing, Nothing}}}}, Zygote.Pullback{Tuple{typeof(Base.Broadcast.broadcastable), Int64}, Tuple{}}, Zygote.var\"#2017#back#200\"{typeof(identity)}, Zygote.Pullback{Tuple{typeof(Base.Broadcast.broadcastable), Vector{Float64}}, Tuple{}}, Zygote.var\"#2017#back#200\"{typeof(identity)}, Zygote.var\"#2881#back#684\"{Zygote.var\"#map_back#678\"{typeof(Base.Broadcast.broadcastable), 1, Tuple{Tuple{}}, Tuple{Val{0}}, Tuple{}}}, Zygote.var\"#2173#back#289\"{Zygote.var\"#287#288\"{Tuple{NTuple{4, Nothing}, Tuple{}}, Zygote.var\"#4123#back#1356\"{Zygote.var\"#1360#1365\"}}}}}, Zygote.Pullback{Tuple{typeof(diagind), Matrix{Float64}}, Tuple{Zygote.Pullback{Tuple{typeof(diagind), Matrix{Float64}, Int64}, Tuple{Zygote.ZBack{ChainRules.var\"#size_pullback#919\"}, Zygote.Pullback{Tuple{typeof(Base.require_one_based_indexing), Matrix{Float64}}, Any}, Zygote.ZBack{ChainRules.var\"#size_pullback#919\"}, Zygote.Pullback{Tuple{typeof(diagind), Int64, Int64, Int64}, Any}}}}}, Zygote.var\"#1990#back#190\"{Zygote.var\"#186#189\"{Zygote.Context{false}, GlobalRef, Matrix{Float64}}}, Zygote.ZBack{typeof(ChainRules._Diagonal_pullback)}, Zygote.Pullback{Tuple{typeof(Base.Broadcast.materialize!), SubArray{Float64, 1, Vector{Float64}, Tuple{Vector{Int64}}, false}, Float64}, Tuple{Zygote.Pullback{Tuple{typeof(Base.Broadcast.materialize!), SubArray{Float64, 1, Vector{Float64}, Tuple{Vector{Int64}}, false}, Base.Broadcast.Broadcasted{Base.Broadcast.DefaultArrayStyle{0}, Tuple{Base.OneTo{Int64}}, typeof(identity), Tuple{Float64}}}, Tuple{Zygote.Pullback{Tuple{typeof(Base.Broadcast.materialize!), Base.Broadcast.DefaultArrayStyle{1}, SubArray{Float64, 1, Vector{Float64}, Tuple{Vector{Int64}}, false}, Base.Broadcast.Broadcasted{Base.Broadcast.DefaultArrayStyle{0}, Tuple{Base.OneTo{Int64}}, typeof(identity), Tuple{Float64}}}, Tuple{Zygote.var\"#2184#back#299\"{Zygote.var\"#back#298\"{:args, Zygote.Context{false}, Base.Broadcast.Broadcasted{Base.Broadcast.DefaultArrayStyle{0}, Tuple{Base.OneTo{Int64}}, typeof(identity), Tuple{Float64}}, Tuple{Float64}}}, Zygote.ZBack{ChainRules.var\"#uninstantiate#1720\"}, Zygote.var\"#2669#back#557\"{Zygote.var\"#555#556\"{SubArray{Float64, 1, Vector{Float64}, Tuple{Vector{Int64}}, false}}}, Zygote.Pullback{Tuple{Type{Base.Broadcast.Broadcasted{Base.Broadcast.DefaultArrayStyle{0}}}, typeof(identity), Tuple{Float64}, Tuple{Base.OneTo{Int64}}}, Tuple{Zygote.ZBack{ChainRules.var\"#typeof_pullback#45\"}, Zygote.Pullback{Tuple{Type{Base.Broadcast.Broadcasted{Base.Broadcast.DefaultArrayStyle{0}, Tuple{Base.OneTo{Int64}}, typeof(identity), Tuple{Float64}}}, typeof(identity), Tuple{Float64}, Tuple{Base.OneTo{Int64}}}, Tuple{Zygote.ZBack{ChainRules.var\"#fieldtype_pullback#421\"}, Zygote.Pullback{Tuple{typeof(convert), Type{typeof(identity)}, typeof(identity)}, Tuple{}}, Zygote.ZBack{ChainRules.var\"#fieldtype_pullback#421\"}, Zygote.var\"#2214#back#309\"{Zygote.Jnew{Base.Broadcast.Broadcasted{Base.Broadcast.DefaultArrayStyle{0}, Tuple{Base.OneTo{Int64}}, typeof(identity), Tuple{Float64}}, Nothing, false}}, Zygote.Pullback{Tuple{typeof(convert), Type{Tuple{Float64}}, Tuple{Float64}}, Tuple{}}, Zygote.ZBack{ChainRules.var\"#fieldtype_pullback#421\"}, Zygote.Pullback{Tuple{typeof(convert), Type{Tuple{Base.OneTo{Int64}}}, Tuple{Base.OneTo{Int64}}}, Tuple{}}}}, Zygote.Pullback{Tuple{typeof(getproperty), Module, Symbol}, Tuple{Zygote.Pullback{Tuple{typeof(getglobal), Module, Symbol}, Tuple{typeof(getglobal)}}}}, Zygote.Pullback{Tuple{typeof(Core.Typeof), typeof(identity)}, Any}}}, Zygote.ZBack{ChainRules.var\"#axes_pullback#303\"}, Zygote.var\"#2184#back#299\"{Zygote.var\"#back#298\"{:f, Zygote.Context{false}, Base.Broadcast.Broadcasted{Base.Broadcast.DefaultArrayStyle{0}, Tuple{Base.OneTo{Int64}}, typeof(identity), Tuple{Float64}}, typeof(identity)}}}}, Zygote.var\"#combine_styles_pullback#1162\"{Tuple{Nothing, Nothing, Nothing}}}}, Zygote.ZBack{ChainRules.var\"#axes_pullback#303\"}, Zygote.Pullback{Tuple{Type{Base.Broadcast.Broadcasted}, typeof(identity), Tuple{Float64}, Tuple{Base.OneTo{Int64}}}, Tuple{Zygote.ZBack{ChainRules.var\"#typeof_pullback#45\"}, Zygote.Pullback{Tuple{Type{Base.Broadcast.Broadcasted{Base.Broadcast.DefaultArrayStyle{0}}}, typeof(identity), Tuple{Float64}, Tuple{Base.OneTo{Int64}}}, Tuple{Zygote.ZBack{ChainRules.var\"#typeof_pullback#45\"}, Zygote.Pullback{Tuple{Type{Base.Broadcast.Broadcasted{Base.Broadcast.DefaultArrayStyle{0}, Tuple{Base.OneTo{Int64}}, typeof(identity), Tuple{Float64}}}, typeof(identity), Tuple{Float64}, Tuple{Base.OneTo{Int64}}}, Tuple{Zygote.ZBack{ChainRules.var\"#fieldtype_pullback#421\"}, Zygote.Pullback{Tuple{typeof(convert), Type{typeof(identity)}, typeof(identity)}, Tuple{}}, Zygote.ZBack{ChainRules.var\"#fieldtype_pullback#421\"}, Zygote.var\"#2214#back#309\"{Zygote.Jnew{Base.Broadcast.Broadcasted{Base.Broadcast.DefaultArrayStyle{0}, Tuple{Base.OneTo{Int64}}, typeof(identity), Tuple{Float64}}, Nothing, false}}, Zygote.Pullback{Tuple{typeof(convert), Type{Tuple{Float64}}, Tuple{Float64}}, Tuple{}}, Zygote.ZBack{ChainRules.var\"#fieldtype_pullback#421\"}, Zygote.Pullback{Tuple{typeof(convert), Type{Tuple{Base.OneTo{Int64}}}, Tuple{Base.OneTo{Int64}}}, Tuple{}}}}, Zygote.Pullback{Tuple{typeof(getproperty), Module, Symbol}, Tuple{Zygote.Pullback{Tuple{typeof(getglobal), Module, Symbol}, Tuple{typeof(getglobal)}}}}, Zygote.Pullback{Tuple{typeof(Core.Typeof), typeof(identity)}, Any}}}, Zygote.var\"#2173#back#289\"{Zygote.var\"#287#288\"{Tuple{Tuple{Nothing}}, Zygote.var\"#combine_styles_pullback#1162\"{Tuple{Nothing, Nothing}}}}}}, Zygote.ZBack{ChainRules.var\"#uninstantiate#1720\"}, Zygote.var\"#2017#back#200\"{typeof(identity)}}}, Zygote.ZBack{ChainRules.var\"#size_pullback#917\"}, Zygote.ZBack{ChainRules.var\"#zeros_pullback#1056\"{Tuple{Tuple{Int64, Int64}}}}, Zygote.Pullback{Tuple{typeof(Base.Broadcast.materialize!), SubArray{Float64, 1, Vector{Float64}, Tuple{StepRange{Int64, Int64}}, true}, Float64}, Tuple{Zygote.Pullback{Tuple{typeof(Base.Broadcast.materialize!), SubArray{Float64, 1, Vector{Float64}, Tuple{StepRange{Int64, Int64}}, true}, Base.Broadcast.Broadcasted{Base.Broadcast.DefaultArrayStyle{0}, Tuple{Base.OneTo{Int64}}, typeof(identity), Tuple{Float64}}}, Tuple{Zygote.Pullback{Tuple{typeof(Base.Broadcast.materialize!), Base.Broadcast.DefaultArrayStyle{1}, SubArray{Float64, 1, Vector{Float64}, Tuple{StepRange{Int64, Int64}}, true}, Base.Broadcast.Broadcasted{Base.Broadcast.DefaultArrayStyle{0}, Tuple{Base.OneTo{Int64}}, typeof(identity), Tuple{Float64}}}, Tuple{Zygote.var\"#2184#back#299\"{Zygote.var\"#back#298\"{:args, Zygote.Context{false}, Base.Broadcast.Broadcasted{Base.Broadcast.DefaultArrayStyle{0}, Tuple{Base.OneTo{Int64}}, typeof(identity), Tuple{Float64}}, Tuple{Float64}}}, Zygote.ZBack{ChainRules.var\"#uninstantiate#1720\"}, Zygote.var\"#2669#back#557\"{Zygote.var\"#555#556\"{SubArray{Float64, 1, Vector{Float64}, Tuple{StepRange{Int64, Int64}}, true}}}, Zygote.Pullback{Tuple{Type{Base.Broadcast.Broadcasted{Base.Broadcast.DefaultArrayStyle{0}}}, typeof(identity), Tuple{Float64}, Tuple{Base.OneTo{Int64}}}, Tuple{Zygote.ZBack{ChainRules.var\"#typeof_pullback#45\"}, Zygote.Pullback{Tuple{Type{Base.Broadcast.Broadcasted{Base.Broadcast.DefaultArrayStyle{0}, Tuple{Base.OneTo{Int64}}, typeof(identity), Tuple{Float64}}}, typeof(identity), Tuple{Float64}, Tuple{Base.OneTo{Int64}}}, Tuple{Zygote.ZBack{ChainRules.var\"#fieldtype_pullback#421\"}, Zygote.Pullback{Tuple{typeof(convert), Type{typeof(identity)}, typeof(identity)}, Tuple{}}, Zygote.ZBack{ChainRules.var\"#fieldtype_pullback#421\"}, Zygote.var\"#2214#back#309\"{Zygote.Jnew{Base.Broadcast.Broadcasted{Base.Broadcast.DefaultArrayStyle{0}, Tuple{Base.OneTo{Int64}}, typeof(identity), Tuple{Float64}}, Nothing, false}}, Zygote.Pullback{Tuple{typeof(convert), Type{Tuple{Float64}}, Tuple{Float64}}, Tuple{}}, Zygote.ZBack{ChainRules.var\"#fieldtype_pullback#421\"}, Zygote.Pullback{Tuple{typeof(convert), Type{Tuple{Base.OneTo{Int64}}}, Tuple{Base.OneTo{Int64}}}, Tuple{}}}}, Zygote.Pullback{Tuple{typeof(getproperty), Module, Symbol}, Tuple{Zygote.Pullback{Tuple{typeof(getglobal), Module, Symbol}, Tuple{typeof(getglobal)}}}}, Zygote.Pullback{Tuple{typeof(Core.Typeof), typeof(identity)}, Any}}}, Zygote.ZBack{ChainRules.var\"#axes_pullback#303\"}, Zygote.var\"#2184#back#299\"{Zygote.var\"#back#298\"{:f, Zygote.Context{false}, Base.Broadcast.Broadcasted{Base.Broadcast.DefaultArrayStyle{0}, Tuple{Base.OneTo{Int64}}, typeof(identity), Tuple{Float64}}, typeof(identity)}}}}, Zygote.var\"#combine_styles_pullback#1162\"{Tuple{Nothing, Nothing, Nothing}}}}, Zygote.ZBack{ChainRules.var\"#axes_pullback#303\"}, Zygote.Pullback{Tuple{Type{Base.Broadcast.Broadcasted}, typeof(identity), Tuple{Float64}, Tuple{Base.OneTo{Int64}}}, Tuple{Zygote.ZBack{ChainRules.var\"#typeof_pullback#45\"}, Zygote.Pullback{Tuple{Type{Base.Broadcast.Broadcasted{Base.Broadcast.DefaultArrayStyle{0}}}, typeof(identity), Tuple{Float64}, Tuple{Base.OneTo{Int64}}}, Tuple{Zygote.ZBack{ChainRules.var\"#typeof_pullback#45\"}, Zygote.Pullback{Tuple{Type{Base.Broadcast.Broadcasted{Base.Broadcast.DefaultArrayStyle{0}, Tuple{Base.OneTo{Int64}}, typeof(identity), Tuple{Float64}}}, typeof(identity), Tuple{Float64}, Tuple{Base.OneTo{Int64}}}, Tuple{Zygote.ZBack{ChainRules.var\"#fieldtype_pullback#421\"}, Zygote.Pullback{Tuple{typeof(convert), Type{typeof(identity)}, typeof(identity)}, Tuple{}}, Zygote.ZBack{ChainRules.var\"#fieldtype_pullback#421\"}, Zygote.var\"#2214#back#309\"{Zygote.Jnew{Base.Broadcast.Broadcasted{Base.Broadcast.DefaultArrayStyle{0}, Tuple{Base.OneTo{Int64}}, typeof(identity), Tuple{Float64}}, Nothing, false}}, Zygote.Pullback{Tuple{typeof(convert), Type{Tuple{Float64}}, Tuple{Float64}}, Tuple{}}, Zygote.ZBack{ChainRules.var\"#fieldtype_pullback#421\"}, Zygote.Pullback{Tuple{typeof(convert), Type{Tuple{Base.OneTo{Int64}}}, Tuple{Base.OneTo{Int64}}}, Tuple{}}}}, Zygote.Pullback{Tuple{typeof(getproperty), Module, Symbol}, Tuple{Zygote.Pullback{Tuple{typeof(getglobal), Module, Symbol}, Tuple{typeof(getglobal)}}}}, Zygote.Pullback{Tuple{typeof(Core.Typeof), typeof(identity)}, Any}}}, Zygote.var\"#2173#back#289\"{Zygote.var\"#287#288\"{Tuple{Tuple{Nothing}}, Zygote.var\"#combine_styles_pullback#1162\"{Tuple{Nothing, Nothing}}}}}}, Zygote.ZBack{ChainRules.var\"#uninstantiate#1720\"}, Zygote.var\"#2017#back#200\"{typeof(identity)}}}, Zygote.Pullback{Tuple{typeof(Base.Broadcast.dotview), Vector{Float64}, BitVector}, Tuple{Zygote.var\"#2173#back#289\"{Zygote.var\"#287#288\"{Tuple{Tuple{Nothing, Nothing}}, Zygote.Pullback{Tuple{typeof(Base.maybeview), Vector{Float64}, BitVector}, Tuple{Zygote.var\"#2173#back#289\"{Zygote.var\"#287#288\"{Tuple{Tuple{Nothing}, Tuple{Nothing}}, Zygote.var\"#2626#back#535\"{Zygote.var\"#539#541\"{1, Float64, Vector{Float64}, Tuple{BitVector}}}}}, Zygote.var\"#2017#back#200\"{typeof(identity)}}}}}}}, Zygote.ZBack{ChainRules.var\"#exp_pullback#2028\"{Tuple{Int32, Int32, Vector{Float64}, Vector{Float64}, Int64, Vector{Matrix{Float64}}, Matrix{Float64}, LU{Float64, Matrix{Float64}, Vector{Int32}}, Vector{Matrix{Float64}}}, Matrix{Float64}, Matrix{Float64}}}, Zygote.var\"#1990#back#190\"{Zygote.var\"#186#189\"{Zygote.Context{false}, GlobalRef, Matrix{Float64}}}, Zygote.Pullback{Tuple{typeof(Base.Broadcast.broadcasted), typeof(^), Matrix{Float64}, Int64}, Tuple{Zygote.var\"#2173#back#289\"{Zygote.var\"#287#288\"{Tuple{Tuple{Nothing, Nothing}, Tuple{}}, Zygote.var\"#combine_styles_pullback#1162\"{Tuple{Nothing, Nothing, Nothing}}}}, Zygote.Pullback{Tuple{typeof(Base.Broadcast.broadcastable), Int64}, Tuple{}}, Zygote.var\"#2017#back#200\"{typeof(identity)}, Zygote.Pullback{Tuple{typeof(Base.Broadcast.broadcastable), Matrix{Float64}}, Tuple{}}, Zygote.var\"#2017#back#200\"{typeof(identity)}, Zygote.var\"#2881#back#684\"{Zygote.var\"#map_back#678\"{typeof(Base.Broadcast.broadcastable), 1, Tuple{Tuple{}}, Tuple{Val{0}}, Tuple{}}}, Zygote.var\"#2173#back#289\"{Zygote.var\"#287#288\"{Tuple{NTuple{4, Nothing}, Tuple{}}, Zygote.var\"#4123#back#1356\"{Zygote.var\"#∇broadcasted#1367\"{Tuple{Matrix{Float64}, Int64}, Matrix{Tuple{Float64, Zygote.ZBack{ChainRules.var\"#power_pullback#1338\"{Float64, Int64, ChainRulesCore.ProjectTo{Float64, NamedTuple{(), Tuple{}}}, ChainRulesCore.ProjectTo{Float64, NamedTuple{(), Tuple{}}}, Float64}}}}, Val{3}}}}}}}, Zygote.ZBack{ChainRules.var\"#maximum_pullback#1459\"{ChainRules.var\"#findmax_pullback#1456\"{Matrix{Float64}, CartesianIndex{2}}}}, Zygote.var\"#3027#back#778\"{Zygote.var\"#772#776\"{Matrix{Float64}}}, Zygote.var\"#3802#back#1201\"{Zygote.var\"#1197#1200\"{Matrix{Float64}, Matrix{Float64}}}, Zygote.Pullback{Tuple{typeof(global_efficiency), Matrix{Float64}}, Any}, Zygote.var\"#3754#back#1177\"{Zygote.var\"#1171#1175\"{Tuple{Float64, Matrix{Float64}}}}, Zygote.var\"#3898#back#1243\"{Zygote.var\"#1239#1242\"}, Zygote.Pullback{Tuple{Type{NamedTuple{(:dims,)}}, Tuple{Int64}}, Tuple{Zygote.Pullback{Tuple{Type{NamedTuple{(:dims,), Tuple{Int64}}}, Tuple{Int64}}, Tuple{Zygote.var\"#2224#back#311\"{Zygote.Jnew{NamedTuple{(:dims,), Tuple{Int64}}, Nothing, true}}}}}}}}})(Δ::Float64)",
      "    @ Zygote ~/.julia/packages/Zygote/JeHtr/src/compiler/interface.jl:45",
      " [14] gradient(f::Function, args::Matrix{Float64})",
      "    @ Zygote ~/.julia/packages/Zygote/JeHtr/src/compiler/interface.jl:97",
      " [15] gradient_descent(f::Function, x::Matrix{Float64}, η::Float64, T::Int64; callback::var\"#34#36\")",
      "    @ Main ./In[78]:3",
      " [16] gradient_descent(f::Function, x::Matrix{Float64}, η::Float64, T::Int64)",
      "    @ Main ./In[78]:1",
      " [17] top-level scope",
      "    @ In[93]:1"
     ]
    }
   ],
   "source": [
    "gradient_descent(loss, W_init, .1, 10^4)"
   ]
  },
  {
   "cell_type": "code",
   "execution_count": 82,
   "metadata": {},
   "outputs": [
    {
     "ename": "LoadError",
     "evalue": "UndefVarError: `alloc_mem` not defined",
     "output_type": "error",
     "traceback": [
      "UndefVarError: `alloc_mem` not defined",
      ""
     ]
    }
   ],
   "source": [
    "alloc_mem"
   ]
  },
  {
   "cell_type": "code",
   "execution_count": null,
   "metadata": {},
   "outputs": [],
   "source": []
  }
 ],
 "metadata": {
  "kernelspec": {
   "display_name": "Julia 1.9.1",
   "language": "julia",
   "name": "julia-1.9"
  },
  "language_info": {
   "file_extension": ".jl",
   "mimetype": "application/julia",
   "name": "julia",
   "version": "1.9.1"
  },
  "orig_nbformat": 4
 },
 "nbformat": 4,
 "nbformat_minor": 2
}
