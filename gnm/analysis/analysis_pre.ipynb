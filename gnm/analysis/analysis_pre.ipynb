{
 "cells": [
  {
   "cell_type": "code",
   "execution_count": 11,
   "metadata": {},
   "outputs": [
    {
     "data": {
      "text/plain": [
       "3-element Vector{String}:\n",
       " \"/store/DAMTPEGLEN/mw894/data/Charlesworth2015/ctx\"\n",
       " \"/store/DAMTPEGLEN/mw894/data/Charlesworth2015/hpc\"\n",
       " \"/store/DAMTPEGLEN/mw894/data/Demas2006\""
      ]
     },
     "metadata": {},
     "output_type": "display_data"
    }
   ],
   "source": [
    "using DataFrames\n",
    "using HDF5\n",
    "using Statistics: mean\n",
    "using StatsPlots\n",
    "using Plots\n",
    "using Measures\n",
    "\n",
    "datasets = [\n",
    "    \"/store/DAMTPEGLEN/mw894/data/Charlesworth2015/ctx\",\n",
    "    \"/store/DAMTPEGLEN/mw894/data/Charlesworth2015/hpc\",\n",
    "    \"/store/DAMTPEGLEN/mw894/data/Demas2006\"\n",
    "]"
   ]
  },
  {
   "cell_type": "markdown",
   "metadata": {},
   "source": [
    "## General data collector"
   ]
  },
  {
   "cell_type": "code",
   "execution_count": 12,
   "metadata": {},
   "outputs": [],
   "source": [
    "df1 = DataFrame(\n",
    "    dset_name=String[],\n",
    "    sample_name=String[],\n",
    "    org_file_name=String[],\n",
    "    div=Int[],\n",
    "    mean_firing_rate=Float64[]\n",
    ")\n",
    "\n",
    "for p_dir in datasets\n",
    "    # get \n",
    "    dset_name = replace(p_dir, \"/store/DAMTPEGLEN/mw894/data/\" => \"\")\n",
    "\n",
    "    # get files\n",
    "    recording_files = filter(file -> endswith(file, \".h5\") && startswith(file, \"sample_\"), readdir(p_dir))\n",
    "\n",
    "    # start with sample and h5 extension\n",
    "    for sample_name in recording_files\n",
    "        # read in the age\n",
    "        file = h5open(joinpath(p_dir, sample_name), \"r\")\n",
    "        div = read(file, \"meta/age\")[1]\n",
    "        org_file_name = read(file, \"meta/org_file_name\")\n",
    "        avg_firing_rate = mean(read(file, \"/summary/frate\"))\n",
    "        close(file)\n",
    "\n",
    "        # remove extension\n",
    "        sample_name = replace(sample_name, \".h5\" => \"\")\n",
    "\n",
    "        # add row\n",
    "        push!(df1, (dset_name, sample_name, org_file_name, div, avg_firing_rate))\n",
    "    end\n",
    "end"
   ]
  },
  {
   "cell_type": "code",
   "execution_count": 13,
   "metadata": {},
   "outputs": [],
   "source": [
    "df2 = DataFrame(\n",
    "    org_file_name=String[],\n",
    "    density=Float64[],\n",
    "    avg_sttc=Float64[]\n",
    ")\n",
    "\n",
    "for p_dir in datasets\n",
    "    # get \n",
    "    dset_name = replace(p_dir, \"/store/DAMTPEGLEN/mw894/data/\" => \"\")\n",
    "\n",
    "    # get files\n",
    "    recording_files = filter(file -> endswith(file, \".dat\") && startswith(file, \"sample_\"), readdir(p_dir))\n",
    "\n",
    "    # start with sample and h5 extension\n",
    "    for sample_name in recording_files\n",
    "\n",
    "        # read in the age\n",
    "        file = h5open(joinpath(p_dir, sample_name), \"r\")\n",
    "        meta_group = file[\"meta\"]    \n",
    "        model_id = read_attribute(meta_group, \"model_id\")\n",
    "        org_file_name = read_attribute(meta_group, \"org_file_name\")\n",
    "        A_Y = read(file, \"A_Y\")\n",
    "        sttc = read(file, \"sttc\")\n",
    "        close(file)\n",
    "\n",
    "        # Only need to consider once\n",
    "        if model_id != 1\n",
    "            continue\n",
    "        end\n",
    "\n",
    "        # remove extension\n",
    "        sample_name = replace(sample_name, \".dat\" => \"\")\n",
    "\n",
    "        # compute density\n",
    "        density = (sum(A_Y) / 2) / ((size(A_Y, 1) * (size(A_Y, 1) - 1)) / 2)\n",
    "\n",
    "        # average sttc\n",
    "        avg_sttc = mean(sttc)\n",
    "        \n",
    "\n",
    "        # add row\n",
    "        push!(df2, (org_file_name, density, avg_sttc))\n",
    "    end\n",
    "end"
   ]
  },
  {
   "cell_type": "code",
   "execution_count": 14,
   "metadata": {},
   "outputs": [
    {
     "data": {
      "text/plain": [
       "((409, 3), (628, 5))"
      ]
     },
     "metadata": {},
     "output_type": "display_data"
    }
   ],
   "source": [
    "size(df2), size(df1)"
   ]
  },
  {
   "cell_type": "code",
   "execution_count": 15,
   "metadata": {},
   "outputs": [],
   "source": [
    "df = leftjoin(df1, df2,on=[:org_file_name])\n",
    "df.week = ceil.(Int, df.div / 7)\n",
    "replace!(df.week, 5 => 4);"
   ]
  },
  {
   "cell_type": "markdown",
   "metadata": {},
   "source": [
    "## Number of samples at each div"
   ]
  },
  {
   "cell_type": "code",
   "execution_count": 16,
   "metadata": {},
   "outputs": [
    {
     "data": {
      "text/html": [
       "<div><div style = \"float: left;\"><span>33×3 DataFrame</span></div><div style = \"float: right;\"><span style = \"font-style: italic;\">8 rows omitted</span></div><div style = \"clear: both;\"></div></div><div class = \"data-frame\" style = \"overflow-x: scroll;\"><table class = \"data-frame\" style = \"margin-bottom: 6px;\"><thead><tr class = \"header\"><th class = \"rowNumber\" style = \"font-weight: bold; text-align: right;\">Row</th><th style = \"text-align: left;\">dset_name</th><th style = \"text-align: left;\">div</th><th style = \"text-align: left;\">Count</th></tr><tr class = \"subheader headerLastRow\"><th class = \"rowNumber\" style = \"font-weight: bold; text-align: right;\"></th><th title = \"String\" style = \"text-align: left;\">String</th><th title = \"Int64\" style = \"text-align: left;\">Int64</th><th title = \"Int64\" style = \"text-align: left;\">Int64</th></tr></thead><tbody><tr><td class = \"rowNumber\" style = \"font-weight: bold; text-align: right;\">1</td><td style = \"text-align: left;\">Charlesworth2015/ctx</td><td style = \"text-align: right;\">7</td><td style = \"text-align: right;\">32</td></tr><tr><td class = \"rowNumber\" style = \"font-weight: bold; text-align: right;\">2</td><td style = \"text-align: left;\">Charlesworth2015/hpc</td><td style = \"text-align: right;\">7</td><td style = \"text-align: right;\">57</td></tr><tr><td class = \"rowNumber\" style = \"font-weight: bold; text-align: right;\">3</td><td style = \"text-align: left;\">Demas2006</td><td style = \"text-align: right;\">7</td><td style = \"text-align: right;\">10</td></tr><tr><td class = \"rowNumber\" style = \"font-weight: bold; text-align: right;\">4</td><td style = \"text-align: left;\">Charlesworth2015/hpc</td><td style = \"text-align: right;\">9</td><td style = \"text-align: right;\">6</td></tr><tr><td class = \"rowNumber\" style = \"font-weight: bold; text-align: right;\">5</td><td style = \"text-align: left;\">Charlesworth2015/ctx</td><td style = \"text-align: right;\">10</td><td style = \"text-align: right;\">19</td></tr><tr><td class = \"rowNumber\" style = \"font-weight: bold; text-align: right;\">6</td><td style = \"text-align: left;\">Charlesworth2015/hpc</td><td style = \"text-align: right;\">10</td><td style = \"text-align: right;\">17</td></tr><tr><td class = \"rowNumber\" style = \"font-weight: bold; text-align: right;\">7</td><td style = \"text-align: left;\">Charlesworth2015/ctx</td><td style = \"text-align: right;\">11</td><td style = \"text-align: right;\">13</td></tr><tr><td class = \"rowNumber\" style = \"font-weight: bold; text-align: right;\">8</td><td style = \"text-align: left;\">Charlesworth2015/hpc</td><td style = \"text-align: right;\">11</td><td style = \"text-align: right;\">34</td></tr><tr><td class = \"rowNumber\" style = \"font-weight: bold; text-align: right;\">9</td><td style = \"text-align: left;\">Demas2006</td><td style = \"text-align: right;\">12</td><td style = \"text-align: right;\">10</td></tr><tr><td class = \"rowNumber\" style = \"font-weight: bold; text-align: right;\">10</td><td style = \"text-align: left;\">Charlesworth2015/hpc</td><td style = \"text-align: right;\">13</td><td style = \"text-align: right;\">2</td></tr><tr><td class = \"rowNumber\" style = \"font-weight: bold; text-align: right;\">11</td><td style = \"text-align: left;\">Charlesworth2015/ctx</td><td style = \"text-align: right;\">14</td><td style = \"text-align: right;\">32</td></tr><tr><td class = \"rowNumber\" style = \"font-weight: bold; text-align: right;\">12</td><td style = \"text-align: left;\">Charlesworth2015/hpc</td><td style = \"text-align: right;\">14</td><td style = \"text-align: right;\">49</td></tr><tr><td class = \"rowNumber\" style = \"font-weight: bold; text-align: right;\">13</td><td style = \"text-align: left;\">Charlesworth2015/hpc</td><td style = \"text-align: right;\">15</td><td style = \"text-align: right;\">6</td></tr><tr><td style = \"text-align: right;\">&vellip;</td><td style = \"text-align: right;\">&vellip;</td><td style = \"text-align: right;\">&vellip;</td><td style = \"text-align: right;\">&vellip;</td></tr><tr><td class = \"rowNumber\" style = \"font-weight: bold; text-align: right;\">22</td><td style = \"text-align: left;\">Charlesworth2015/hpc</td><td style = \"text-align: right;\">21</td><td style = \"text-align: right;\">55</td></tr><tr><td class = \"rowNumber\" style = \"font-weight: bold; text-align: right;\">23</td><td style = \"text-align: left;\">Demas2006</td><td style = \"text-align: right;\">21</td><td style = \"text-align: right;\">13</td></tr><tr><td class = \"rowNumber\" style = \"font-weight: bold; text-align: right;\">24</td><td style = \"text-align: left;\">Charlesworth2015/ctx</td><td style = \"text-align: right;\">24</td><td style = \"text-align: right;\">19</td></tr><tr><td class = \"rowNumber\" style = \"font-weight: bold; text-align: right;\">25</td><td style = \"text-align: left;\">Charlesworth2015/hpc</td><td style = \"text-align: right;\">24</td><td style = \"text-align: right;\">17</td></tr><tr><td class = \"rowNumber\" style = \"font-weight: bold; text-align: right;\">26</td><td style = \"text-align: left;\">Charlesworth2015/ctx</td><td style = \"text-align: right;\">25</td><td style = \"text-align: right;\">13</td></tr><tr><td class = \"rowNumber\" style = \"font-weight: bold; text-align: right;\">27</td><td style = \"text-align: left;\">Charlesworth2015/hpc</td><td style = \"text-align: right;\">25</td><td style = \"text-align: right;\">33</td></tr><tr><td class = \"rowNumber\" style = \"font-weight: bold; text-align: right;\">28</td><td style = \"text-align: left;\">Charlesworth2015/hpc</td><td style = \"text-align: right;\">26</td><td style = \"text-align: right;\">7</td></tr><tr><td class = \"rowNumber\" style = \"font-weight: bold; text-align: right;\">29</td><td style = \"text-align: left;\">Charlesworth2015/hpc</td><td style = \"text-align: right;\">27</td><td style = \"text-align: right;\">3</td></tr><tr><td class = \"rowNumber\" style = \"font-weight: bold; text-align: right;\">30</td><td style = \"text-align: left;\">Charlesworth2015/ctx</td><td style = \"text-align: right;\">28</td><td style = \"text-align: right;\">22</td></tr><tr><td class = \"rowNumber\" style = \"font-weight: bold; text-align: right;\">31</td><td style = \"text-align: left;\">Charlesworth2015/hpc</td><td style = \"text-align: right;\">28</td><td style = \"text-align: right;\">16</td></tr><tr><td class = \"rowNumber\" style = \"font-weight: bold; text-align: right;\">32</td><td style = \"text-align: left;\">Charlesworth2015/ctx</td><td style = \"text-align: right;\">29</td><td style = \"text-align: right;\">9</td></tr><tr><td class = \"rowNumber\" style = \"font-weight: bold; text-align: right;\">33</td><td style = \"text-align: left;\">Charlesworth2015/hpc</td><td style = \"text-align: right;\">29</td><td style = \"text-align: right;\">3</td></tr></tbody></table></div>"
      ],
      "text/latex": [
       "\\begin{tabular}{r|ccc}\n",
       "\t& dset\\_name & div & Count\\\\\n",
       "\t\\hline\n",
       "\t& String & Int64 & Int64\\\\\n",
       "\t\\hline\n",
       "\t1 & Charlesworth2015/ctx & 7 & 32 \\\\\n",
       "\t2 & Charlesworth2015/hpc & 7 & 57 \\\\\n",
       "\t3 & Demas2006 & 7 & 10 \\\\\n",
       "\t4 & Charlesworth2015/hpc & 9 & 6 \\\\\n",
       "\t5 & Charlesworth2015/ctx & 10 & 19 \\\\\n",
       "\t6 & Charlesworth2015/hpc & 10 & 17 \\\\\n",
       "\t7 & Charlesworth2015/ctx & 11 & 13 \\\\\n",
       "\t8 & Charlesworth2015/hpc & 11 & 34 \\\\\n",
       "\t9 & Demas2006 & 12 & 10 \\\\\n",
       "\t10 & Charlesworth2015/hpc & 13 & 2 \\\\\n",
       "\t11 & Charlesworth2015/ctx & 14 & 32 \\\\\n",
       "\t12 & Charlesworth2015/hpc & 14 & 49 \\\\\n",
       "\t13 & Charlesworth2015/hpc & 15 & 6 \\\\\n",
       "\t14 & Demas2006 & 15 & 8 \\\\\n",
       "\t15 & Charlesworth2015/ctx & 17 & 19 \\\\\n",
       "\t16 & Charlesworth2015/hpc & 17 & 17 \\\\\n",
       "\t17 & Charlesworth2015/ctx & 18 & 13 \\\\\n",
       "\t18 & Charlesworth2015/hpc & 18 & 34 \\\\\n",
       "\t19 & Charlesworth2015/hpc & 19 & 6 \\\\\n",
       "\t20 & Charlesworth2015/hpc & 20 & 2 \\\\\n",
       "\t21 & Charlesworth2015/ctx & 21 & 32 \\\\\n",
       "\t22 & Charlesworth2015/hpc & 21 & 55 \\\\\n",
       "\t23 & Demas2006 & 21 & 13 \\\\\n",
       "\t24 & Charlesworth2015/ctx & 24 & 19 \\\\\n",
       "\t$\\dots$ & $\\dots$ & $\\dots$ & $\\dots$ \\\\\n",
       "\\end{tabular}\n"
      ],
      "text/plain": [
       "\u001b[1m33×3 DataFrame\u001b[0m\n",
       "\u001b[1m Row \u001b[0m│\u001b[1m dset_name            \u001b[0m\u001b[1m div   \u001b[0m\u001b[1m Count \u001b[0m\n",
       "     │\u001b[90m String               \u001b[0m\u001b[90m Int64 \u001b[0m\u001b[90m Int64 \u001b[0m\n",
       "─────┼────────────────────────────────────\n",
       "   1 │ Charlesworth2015/ctx      7     32\n",
       "   2 │ Charlesworth2015/hpc      7     57\n",
       "   3 │ Demas2006                 7     10\n",
       "   4 │ Charlesworth2015/hpc      9      6\n",
       "   5 │ Charlesworth2015/ctx     10     19\n",
       "   6 │ Charlesworth2015/hpc     10     17\n",
       "   7 │ Charlesworth2015/ctx     11     13\n",
       "   8 │ Charlesworth2015/hpc     11     34\n",
       "  ⋮  │          ⋮              ⋮      ⋮\n",
       "  27 │ Charlesworth2015/hpc     25     33\n",
       "  28 │ Charlesworth2015/hpc     26      7\n",
       "  29 │ Charlesworth2015/hpc     27      3\n",
       "  30 │ Charlesworth2015/ctx     28     22\n",
       "  31 │ Charlesworth2015/hpc     28     16\n",
       "  32 │ Charlesworth2015/ctx     29      9\n",
       "  33 │ Charlesworth2015/hpc     29      3\n",
       "\u001b[36m                           18 rows omitted\u001b[0m"
      ]
     },
     "metadata": {},
     "output_type": "display_data"
    }
   ],
   "source": [
    "# 1. Number of sampels at each div\n",
    "sample_age = combine(groupby(df, [:dset_name, :div]), nrow => :Count)\n",
    "sample_age = sort(sample_age, :div)\n",
    "sample_age"
   ]
  },
  {
   "cell_type": "markdown",
   "metadata": {},
   "source": [
    "## Firing frequency at DIV"
   ]
  },
  {
   "cell_type": "code",
   "execution_count": 17,
   "metadata": {},
   "outputs": [
    {
     "data": {
      "text/plain": [
       "\"/mhome/damtp/r/mw894/diss/gnm/analysis/firing_rates.pdf\""
      ]
     },
     "metadata": {},
     "output_type": "display_data"
    }
   ],
   "source": [
    "firing_rate = combine(groupby(df, [:dset_name, :week]), :mean_firing_rate => mean => :mean_mean_firing_rate)\n",
    "firing_rate_groups = groupby(firing_rate, :dset_name)\n",
    "\n",
    "plot_firing_rates = Array{Float64}[]\n",
    "plot_weeks = Array{Float64}[]\n",
    "labels = String[]\n",
    "\n",
    "for (dset_name, sub_df) in pairs(firing_rate_groups)\n",
    "    ordered_sub_firing_rates = zeros(maximum(firing_rate.week))\n",
    "\n",
    "    sub_firing_rates = sub_df[:,:mean_mean_firing_rate]\n",
    "    sub_weeks = sub_df[:,:week]\n",
    "\n",
    "    # sort by time\n",
    "    sorted_perm = sortperm(sub_weeks)\n",
    "    sub_weeks = sub_weeks[sorted_perm]\n",
    "    sub_firing_rates = sub_firing_rates[sorted_perm]\n",
    "\n",
    "    # append to collectors\n",
    "    push!(plot_firing_rates, sub_firing_rates)\n",
    "    push!(plot_weeks, sub_weeks)\n",
    "    push!(labels, dset_name[1])\n",
    "end\n",
    "\n",
    "p = plot(\n",
    "    plot_weeks, \n",
    "    plot_firing_rates, \n",
    "    label=reshape(labels, (1, 3)), \n",
    "    legend=:topleft, \n",
    "    marker = :circle, \n",
    "    linestyle=:dash,\n",
    "    size = (1000, 500),\n",
    "    margin=5mm\n",
    "    )\n",
    "xlabel!(\"DIV in number of weeks\")\n",
    "ylabel!(\"Average sample & electrode Hz\")\n",
    "savefig(p, \"firing_rates.pdf\")"
   ]
  },
  {
   "cell_type": "markdown",
   "metadata": {},
   "source": [
    "## Connection density"
   ]
  },
  {
   "cell_type": "code",
   "execution_count": 18,
   "metadata": {},
   "outputs": [
    {
     "data": {
      "text/plain": [
       "\"/mhome/damtp/r/mw894/diss/gnm/analysis/connection_densities.pdf\""
      ]
     },
     "metadata": {},
     "output_type": "display_data"
    }
   ],
   "source": [
    "connection_dens_groups = groupby(df, :dset_name)\n",
    "\n",
    "plots = []\n",
    "labels = []\n",
    "for (i,dset_name) in enumerate(unique(df.dset_name))\n",
    "    sub_df = filter(:dset_name => x -> x == dset_name, df)\n",
    "    sub_df = filter(:density => !ismissing, sub_df)\n",
    "    sub_df = sub_df[!, [:week, :density]]\n",
    "\n",
    "    for i in 1:4\n",
    "        if !(i in sub_df.week)\n",
    "           push!(sub_df, (i, 0))\n",
    "        end\n",
    "    end\n",
    "\n",
    "    p = @df sub_df boxplot(:week, :density, fillalpha=0.75, linewidth=2, legend=false, color=palette(:default)[i])\n",
    "    xlabel!(\"DIV in number of weeks\")\n",
    "    ylabel!(\"Connection density\")\n",
    "    push!(plots, p)\n",
    "    push!(labels, dset_name)\n",
    "end\n",
    "\n",
    "p = plot(plots..., layout=4, size=(1500, 1500), title=reshape(labels, (1, 3)), margin=5mm)\n",
    "savefig(p, \"connection_densities.pdf\")"
   ]
  },
  {
   "cell_type": "markdown",
   "metadata": {},
   "source": [
    "## STTC development"
   ]
  },
  {
   "cell_type": "code",
   "execution_count": 20,
   "metadata": {},
   "outputs": [
    {
     "data": {
      "text/plain": [
       "\"/mhome/damtp/r/mw894/diss/gnm/analysis/avg_sttc.pdf\""
      ]
     },
     "metadata": {},
     "output_type": "display_data"
    }
   ],
   "source": [
    "connection_sttc_groups = groupby(df, :dset_name)\n",
    "\n",
    "plots = []\n",
    "labels = []\n",
    "for (i,dset_name) in enumerate(unique(df.dset_name))\n",
    "    sub_df = filter(:dset_name => x -> x == dset_name, df)\n",
    "    sub_df = filter(:avg_sttc => !ismissing, sub_df)\n",
    "    sub_df = sub_df[!, [:week, :avg_sttc]]\n",
    "\n",
    "    for i in 1:4\n",
    "        if !(i in sub_df.week)\n",
    "           push!(sub_df, (i, 0))\n",
    "        end\n",
    "    end\n",
    "\n",
    "    p = @df sub_df boxplot(:week, :avg_sttc, fillalpha=0.75, linewidth=2, legend=false, color=palette(:default)[i])\n",
    "    xlabel!(\"DIV in number of weeks\")\n",
    "    ylabel!(\"Average sttc (active electrode (>.01 Hz))\")\n",
    "    push!(plots, p)\n",
    "    push!(labels, dset_name)\n",
    "end\n",
    "\n",
    "p = plot(plots..., layout=4, size=(1500, 1500), title=reshape(labels, (1, 3)), margin=5mm)\n",
    "savefig(p, \"avg_sttc.pdf\")"
   ]
  }
 ],
 "metadata": {
  "kernelspec": {
   "display_name": "Julia 1.9.2",
   "language": "julia",
   "name": "julia-1.9"
  },
  "language_info": {
   "file_extension": ".jl",
   "mimetype": "application/julia",
   "name": "julia",
   "version": "1.9.2"
  },
  "orig_nbformat": 4
 },
 "nbformat": 4,
 "nbformat_minor": 2
}
