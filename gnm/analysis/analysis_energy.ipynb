{
 "cells": [
  {
   "cell_type": "code",
   "execution_count": 2,
   "metadata": {},
   "outputs": [
    {
     "data": {
      "text/plain": [
       "3-element Array{String,1}:\n",
       " \"/store/DAMTPEGLEN/mw894/data/Charlesworth2015/ctx\"\n",
       " \"/store/DAMTPEGLEN/mw894/data/Charlesworth2015/hpc\"\n",
       " \"/store/DAMTPEGLEN/mw894/data/Demas2006\""
      ]
     },
     "metadata": {},
     "output_type": "display_data"
    }
   ],
   "source": [
    "using HDF5\n",
    "using DataFrames\n",
    "using Statistics\n",
    "using Plots\n",
    "using Measures\n",
    "\n",
    "include(\"/home/mw894/diss/gnm/gnm_utils.jl\")\n",
    "\n",
    "datasets = [\n",
    "    \"/store/DAMTPEGLEN/mw894/data/Charlesworth2015/ctx\",\n",
    "    \"/store/DAMTPEGLEN/mw894/data/Charlesworth2015/hpc\",\n",
    "    \"/store/DAMTPEGLEN/mw894/data/Demas2006\",\n",
    "   # \"/store/DAMTPEGLEN/mw894/data/Maccione2014\",\n",
    "]"
   ]
  },
  {
   "cell_type": "markdown",
   "metadata": {},
   "source": [
    "# Create the results dataset"
   ]
  },
  {
   "cell_type": "code",
   "execution_count": 3,
   "metadata": {},
   "outputs": [],
   "source": [
    "df_all = DataFrame[]\n",
    "for in_dir in datasets\n",
    "    res_files = filter(name -> endswith(name, \".res\"), readdir(in_dir))\n",
    "    res_files = map(name -> joinpath(in_dir, name), res_files)\n",
    "    res_files\n",
    "\n",
    "    df_dataset = DataFrame[]\n",
    "\n",
    "    # Each result stores for one sample and one model\n",
    "    for (i_res_files, res_file) in enumerate(res_files)\n",
    "        file = h5open(res_file, \"r\")\n",
    "        df_file = DataFrame()\n",
    "\n",
    "        # read meta data for this sample model combi\n",
    "        meta_group = file[\"meta\"]\n",
    "        div = read_attribute(meta_group, \"group_id\")\n",
    "        sample_name = read_attribute(meta_group, \"org_file_name\")\n",
    "        data_set_name = read_attribute(meta_group, \"data_set_name\")\n",
    "        model_id = read_attribute(meta_group, \"model_id\")\n",
    "        week = min(4, ceil.(Int, parse(Int, div) / 7))\n",
    "\n",
    "        # read the data for this sample model combi\n",
    "        K = read(file, \"K\")\n",
    "\n",
    "        # read the paramter space\n",
    "        param_space = read(file, \"param_space\")\n",
    "        n_rows = size(param_space, 1)\n",
    "        close(file)\n",
    "\n",
    "        # store metadata for df\n",
    "        df_file.model_id = repeat([model_id], n_rows)\n",
    "        df_file.sample_name = repeat([sample_name], n_rows)\n",
    "        df_file.div = repeat([div], n_rows)\n",
    "        df_file.week = repeat([week], n_rows)\n",
    "        df_file.data_set = repeat([data_set_name], n_rows)\n",
    "        df_file.eta = param_space[:, 1]\n",
    "        df_file.gamma = param_space[:, 2]\n",
    "        df_file.KS_K = K[:, 1]\n",
    "        df_file.KS_C = K[:, 2]\n",
    "        df_file.KS_B = K[:, 3]\n",
    "        df_file.KS_E = K[:, 4]\n",
    "\n",
    "        push!(df_dataset, df_file)\n",
    "    end\n",
    "\n",
    "    df_dataset = vcat(df_dataset...)\n",
    "    df_dataset.KS_MAX = map(maximum, eachrow(df_dataset[!, [\"KS_B\", \"KS_C\", \"KS_E\", \"KS_K\"]]));\n",
    "\n",
    "    push!(df_all, df_dataset)\n",
    "end\n",
    "\n",
    "df_all = vcat(df_all...);"
   ]
  },
  {
   "cell_type": "code",
   "execution_count": 4,
   "metadata": {},
   "outputs": [
    {
     "data": {
      "text/plain": [
       "(0, 12)"
      ]
     },
     "metadata": {},
     "output_type": "display_data"
    }
   ],
   "source": [
    "cols = [:model_id, :sample_name, :eta, :gamma]\n",
    "size(df_all[findall(nonunique(df_all[!,cols])), :])"
   ]
  },
  {
   "cell_type": "markdown",
   "metadata": {},
   "source": [
    "## Best performing model across parameter combinations and anverafed across samples"
   ]
  },
  {
   "cell_type": "code",
   "execution_count": 11,
   "metadata": {},
   "outputs": [],
   "source": [
    "plots = []\n",
    "dset_names = []\n",
    "for dset in unique(df_all.data_set)\n",
    "    push!(dset_names, dset)\n",
    "\n",
    "    # get dataset df\n",
    "    df_dataset = df_all[df_all.data_set .== dset, :]\n",
    "\n",
    "    # Get best performing parameter combination \n",
    "    top_model_sample_combs = combine(groupby(df_dataset, [:model_id, :sample_name]), :KS_MAX => minimum => :KS_MAX_best, :week => first => :week)\n",
    "\n",
    "    # Compute the average across all samples\n",
    "    avg_top_model_sample_combs = combine(groupby(top_model_sample_combs, [:model_id, :week]), :KS_MAX_best => mean => :KS_MAX_best_mean)\n",
    "\n",
    "    # data for plot\n",
    "    p_data = reshape(avg_top_model_sample_combs.KS_MAX_best_mean, \n",
    "     length(unique(avg_top_model_sample_combs.week)), \n",
    "     length(unique(avg_top_model_sample_combs.model_id)))'\n",
    "\n",
    "\n",
    "    p = heatmap(p_data, yticks=(1:13, values(MODELS)), interpolate = false, c=:viridis, xticks=(1:4), xrotation = 45, fill_z=p_data, fmt=:pdf)\n",
    "\n",
    "    # annotate\n",
    "    nrow, ncol = size(p_data)\n",
    "    fontsize = 10\n",
    "    ann = [(j,i, text(round(p_data[i,j], digits=3), fontsize, :white, :center)) for i in 1:nrow for j in 1:ncol]\n",
    "    annotate!(ann, linecolor=:white)\n",
    "\n",
    "    push!(plots, p)\n",
    "end\n",
    "\n",
    "\n",
    "p = plot(plots...; format = grid(4, 4), fmt=:pdf, size = (1500, 1500), margin=5mm, title=[\"1\" \"2\" \"3\" \"4\"]) \n",
    "savefig(p, \"top_scores.png\")"
   ]
  },
  {
   "cell_type": "code",
   "execution_count": 12,
   "metadata": {},
   "outputs": [],
   "source": [
    "top_model_sample_combs = combine(groupby(df_all, [:data_set, :model_id, :sample_name]), :KS_MAX => minimum => :KS_MAX_best, :week => first => :week)\n",
    "avg_top_model_sample_combs = combine(groupby(top_model_sample_combs, [:data_set, :model_id, :week]), :KS_MAX_best => mean => :KS_MAX_best_mean)\n",
    "avg_top_model_sample_combs;"
   ]
  },
  {
   "cell_type": "markdown",
   "metadata": {},
   "source": [
    "## Heatmaps"
   ]
  },
  {
   "cell_type": "code",
   "execution_count": 22,
   "metadata": {},
   "outputs": [
    {
     "ename": "ArgumentError",
     "evalue": "ArgumentError: collection must be non-empty",
     "output_type": "error",
     "traceback": [
      "ArgumentError: collection must be non-empty\n",
      "\n",
      "Stacktrace:\n",
      " [1] _extrema_itr(::typeof(identity), ::Array{Any,1}) at ./operators.jl:481\n",
      " [2] _extrema_dims at ./multidimensional.jl:1585 [inlined]\n",
      " [3] #extrema#452 at ./multidimensional.jl:1572 [inlined]\n",
      " [4] extrema at ./multidimensional.jl:1572 [inlined]\n",
      " [5] ignorenan_extrema at /home/mw894/.julia/packages/Plots/iYDwd/src/Plots.jl:132 [inlined]\n",
      " [6] _heatmap_edges(::Array{Any,1}, ::Bool, ::Bool) at /home/mw894/.julia/packages/Plots/iYDwd/src/utils.jl:249\n",
      " [7] heatmap_edges(::Base.OneTo{Int64}, ::Symbol, ::Bool, ::Bool) at /home/mw894/.julia/packages/Plots/iYDwd/src/utils.jl:258\n",
      " [8] heatmap_edges(::Base.OneTo{Int64}, ::Symbol) at /home/mw894/.julia/packages/Plots/iYDwd/src/utils.jl:257\n",
      " [9] expand_extrema!(::Plots.Subplot{Plots.GRBackend}, ::RecipesPipeline.DefaultsDict) at /home/mw894/.julia/packages/Plots/iYDwd/src/axes.jl:482\n",
      " [10] _expand_subplot_extrema(::Plots.Subplot{Plots.GRBackend}, ::RecipesPipeline.DefaultsDict, ::Symbol) at /home/mw894/.julia/packages/Plots/iYDwd/src/pipeline.jl:349\n",
      " [11] add_series!(::Plots.Plot{Plots.GRBackend}, ::RecipesPipeline.DefaultsDict) at /home/mw894/.julia/packages/Plots/iYDwd/src/pipeline.jl:300\n",
      " [12] _process_seriesrecipe(::Any, ::Any) at /home/mw894/.julia/packages/RecipesPipeline/bexlW/src/series_recipe.jl:46\n",
      " [13] _process_seriesrecipes!(::Any, ::Any) at /home/mw894/.julia/packages/RecipesPipeline/bexlW/src/series_recipe.jl:27\n",
      " [14] recipe_pipeline!(::Any, ::Any, ::Any) at /home/mw894/.julia/packages/RecipesPipeline/bexlW/src/RecipesPipeline.jl:97\n",
      " [15] _plot!(::Plots.Plot, ::Any, ::Any) at /home/mw894/.julia/packages/Plots/iYDwd/src/plot.jl:172\n",
      " [16] #plot#148 at /home/mw894/.julia/packages/Plots/iYDwd/src/plot.jl:58 [inlined]\n",
      " [17] heatmap(::Any; kw::Any) at /home/mw894/.julia/packages/RecipesBase/qpxEX/src/RecipesBase.jl:410\n",
      " [18] top-level scope at /home/mw894/diss/gnm/analysis/analysis_energy.ipynb:16"
     ]
    }
   ],
   "source": [
    "for dset in unique(df_all.data_set)\n",
    "    for week in unique(df_all.week)\n",
    "        # prep plots and names\n",
    "        plots = []\n",
    "        dset_names = []\n",
    "\n",
    "        for (model_id, model_name) in MODELS\n",
    "            # get model df\n",
    "            df_subset = filter(r-> (r.model_id == model_id) && (r.week == week) && (r.data_set == dset), df_all)\n",
    "\n",
    "            # average across samples\n",
    "            plot_data = combine(groupby(df_subset, [:eta, :gamma]), :KS_MAX => mean)\n",
    "\n",
    "            # data for plot\n",
    "            landscape = reshape(plot_data.KS_MAX_mean, (length(unique(plot_data.eta)), length(unique(plot_data.gamma))))\n",
    "            p = heatmap(landscape, clim=(0, 1), c=:viridis, legend=:none, title=\"Model \" * string(model_name), xticks=:none, yticks=:none)\n",
    "            yflip!(true)\n",
    "            push!(plots, p)\n",
    "        end\n",
    "        \n",
    "        # combine and add bar\n",
    "        push!(plots, plot())\n",
    "        push!(plots, plot())\n",
    "        push!(plots, plot())\n",
    "        l = @layout[grid(4, 4) a{0.05w}]\n",
    "        bar = heatmap((0:0.01:1) .* ones(101, 1), legend=:none, xticks=:none, yticks=(1:10:101, string.(0:0.1:1)), c=:viridis)\n",
    "        p = plot(plots..., bar, layout=l, size=(2000, 1600))\n",
    "\n",
    "        savefig(p, replace(dset, \"/\" => \"_\") * \"_\" * string(week) * \"_heatmaps.png\")\n",
    "    end\n",
    "end"
   ]
  },
  {
   "cell_type": "code",
   "execution_count": 9,
   "metadata": {},
   "outputs": [],
   "source": []
  }
 ],
 "metadata": {
  "kernelspec": {
   "display_name": "Julia 1.5.2",
   "language": "julia",
   "name": "julia-1.5"
  },
  "language_info": {
   "file_extension": ".jl",
   "mimetype": "application/julia",
   "name": "julia",
   "version": "1.5.2"
  },
  "orig_nbformat": 4
 },
 "nbformat": 4,
 "nbformat_minor": 2
}
