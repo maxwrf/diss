{
 "cells": [
  {
   "cell_type": "markdown",
   "metadata": {},
   "source": [
    "# Impact of summation on update values\n",
    "Ref: https://www.biorxiv.org/content/10.1101/2023.06.23.546237v1?med=mas."
   ]
  },
  {
   "cell_type": "code",
   "execution_count": 25,
   "metadata": {},
   "outputs": [],
   "source": [
    "using LinearAlgebra\n",
    "using Polynomials\n",
    "\n",
    "# example matrix\n",
    "W = [0.0 0.9 0.0;\n",
    "     0.9 0.0 0.1; \n",
    "     0.0 0.1 0.0]\n",
    "\n",
    "# exmaple distance matrix\n",
    "D = [0 3 4;\n",
    "     3 0 5; \n",
    "     4 5 0.]\n",
    "\n",
    "# example omega\n",
    "ω = 0.9\n",
    "\n",
    "# lets compute the derivative / gradient with respect to this \n",
    "demo_edge = [CartesianIndex(1, 2)];"
   ]
  },
  {
   "cell_type": "code",
   "execution_count": 19,
   "metadata": {},
   "outputs": [],
   "source": [
    "function tangent_approx(\n",
    "    f::Function, \n",
    "    W::Matrix{Float64},\n",
    "    D::Matrix{Float64}, \n",
    "    ω::Float64,\n",
    "    edges::Vector{CartesianIndex{2}}, \n",
    "    resolution = 0.01, steps = 5)::Vector{Float64}\n",
    "    \"\"\"\n",
    "    Compute the derivative of any function f with respec to the vector of edges provided\n",
    "    Will use n = steps number of nudges of current w_{edge idx} by (1+resolution)\n",
    "    \"\"\"\n",
    "    results = zeros(length(edges))\n",
    "    rep_vec = collect(range(-steps*resolution, steps*resolution, step=resolution))\n",
    "\n",
    "    for (i_edge, edge_idx) in enumerate(edges)     \n",
    "        # Points for evaluation\n",
    "        edge_val = W[edge_idx]\n",
    "        sign_edge = sign(edge_val) == 0 ? 1 : sign(edge_val)\n",
    "        x = [edge_val + sign_edge * (max(abs(edge_val), 1e-3) * i) for i in rep_vec]\n",
    "        \n",
    "        # For each nudge save difference in communicability \n",
    "        y = zeros(length(x))\n",
    "        for (i_rep, rep) in enumerate(x)\n",
    "            W_copy = copy(W)\n",
    "            W_copy[edge_idx] = rep \n",
    "            y[i_rep] = f(W_copy, D, ω, edge_idx)\n",
    "        end\n",
    "\n",
    "        results[i_edge] = fit(x, y, 1)[1]\n",
    "    end\n",
    "\n",
    "    return results\n",
    "end;"
   ]
  },
  {
   "cell_type": "markdown",
   "metadata": {},
   "source": [
    "## Version 1\n",
    "$$\n",
    "f(W) = \\sum \\sum ((c_{i,j} * d_{i,j})^{\\omega})\n",
    "$$\n",
    "where\n",
    "$$\n",
    "C = e^{s^{-1/2} W s^{-1/2}}\n",
    "$$"
   ]
  },
  {
   "cell_type": "code",
   "execution_count": 26,
   "metadata": {},
   "outputs": [
    {
     "data": {
      "text/plain": [
       "1-element Vector{Float64}:\n",
       " -0.0014622744308011133"
      ]
     },
     "execution_count": 26,
     "metadata": {},
     "output_type": "execute_result"
    }
   ],
   "source": [
    "function obj_1(W, D, ω, _)\n",
    "    node_strengths = dropdims(sum(W, dims=2), dims=2)\n",
    "    node_strengths[node_strengths.==0] .= 1e-5\n",
    "    S = sqrt(inv(Diagonal(node_strengths)))\n",
    "    return sum((exp(S * W * S) .* D) .^ ω)\n",
    "end;\n",
    "\n",
    "tangent_approx(obj_1, W, D, ω, demo_edge, 0.01)"
   ]
  },
  {
   "cell_type": "markdown",
   "metadata": {},
   "source": [
    "## Version 2\n",
    "$$\n",
    "f(W) = ((\\sum \\sum c_{i,j}) * d_{i,j})^{\\omega}\n",
    "$$\n",
    "with\n",
    "$$\n",
    "C = e^{s^{-1/2} W s^{-1/2}}\n",
    "$$\n",
    "\n",
    "Note, that this is like having one cost function for every edge individually, which are detached from each other, i.e.:\n",
    "$$\n",
    "f_{i,j}(W) = ((\\sum \\sum c_{i,j}) * d_{i,j})^{\\omega}\n",
    "$$"
   ]
  },
  {
   "cell_type": "code",
   "execution_count": 27,
   "metadata": {},
   "outputs": [
    {
     "data": {
      "text/plain": [
       "1-element Vector{Float64}:\n",
       " -0.0012537066847978803"
      ]
     },
     "execution_count": 27,
     "metadata": {},
     "output_type": "execute_result"
    }
   ],
   "source": [
    "function obj_2(W, D, ω, edge)\n",
    "    node_strengths = dropdims(sum(W, dims=2), dims=2)\n",
    "    node_strengths[node_strengths.==0] .= 1e-5\n",
    "    S = sqrt(inv(Diagonal(node_strengths)))\n",
    "    return sum((exp(S * W * S)) .* D[edge]) .^ ω\n",
    "end;\n",
    "\n",
    "tangent_approx(obj_2, W, D, ω, demo_edge, 0.01)"
   ]
  }
 ],
 "metadata": {
  "kernelspec": {
   "display_name": "Julia 1.9.1",
   "language": "julia",
   "name": "julia-1.9"
  },
  "language_info": {
   "file_extension": ".jl",
   "mimetype": "application/julia",
   "name": "julia",
   "version": "1.9.1"
  },
  "orig_nbformat": 4
 },
 "nbformat": 4,
 "nbformat_minor": 2
}
